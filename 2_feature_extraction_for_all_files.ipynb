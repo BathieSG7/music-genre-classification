{
 "cells": [
  {
   "cell_type": "code",
   "execution_count": 1,
   "metadata": {},
   "outputs": [
    {
     "name": "stderr",
     "output_type": "stream",
     "text": [
      "  2%|▏         | 90/4135 [02:05<1:31:15,  1.35s/it]/home/samba/anaconda3/lib/python3.7/site-packages/librosa/core/pitch.py:145: UserWarning: Trying to estimate tuning from empty frequency set.\n",
      "  warnings.warn('Trying to estimate tuning from empty frequency set.')\n",
      "100%|██████████| 4135/4135 [1:14:54<00:00,  1.02it/s]\n"
     ]
    }
   ],
   "source": [
    "import os\n",
    "import numpy as np\n",
    "import pandas as pd\n",
    "import scipy\n",
    "import librosa\n",
    "from tqdm import tqdm\n",
    "\n",
    "\n",
    "WAV_DIR = 'wav_files/'\n",
    "wav_files = os.listdir(WAV_DIR)\n",
    "\n",
    "col_names = ['file_name', 'signal_mean', 'signal_std', 'signal_skew', 'signal_kurtosis', \n",
    "             'zcr_mean', 'zcr_std', 'rmse_mean', 'rmse_std', 'tempo',\n",
    "             'spectral_centroid_mean', 'spectral_centroid_std',\n",
    "             'spectral_bandwidth_2_mean', 'spectral_bandwidth_2_std',\n",
    "             'spectral_bandwidth_3_mean', 'spectral_bandwidth_3_std',\n",
    "             'spectral_bandwidth_4_mean', 'spectral_bandwidth_4_std'] + \\\n",
    "            ['spectral_contrast_' + str(i+1) + '_mean' for i in range(7)] + \\\n",
    "            ['spectral_contrast_' + str(i+1) + '_std' for i in range(7)] + \\\n",
    "            ['spectral_rolloff_mean', 'spectral_rolloff_std'] + \\\n",
    "            ['mfccs_' + str(i+1) + '_mean' for i in range(20)] + \\\n",
    "            ['mfccs_' + str(i+1) + '_std' for i in range(20)] + \\\n",
    "            ['chroma_stft_' + str(i+1) + '_mean' for i in range(12)] + \\\n",
    "            ['chroma_stft_' + str(i+1) + '_std' for i in range(12)] \n",
    "            \n",
    "df = pd.DataFrame(columns=col_names)\n",
    "\n",
    "for f in tqdm(wav_files):\n",
    "    try:\n",
    "        # Read wav-file\n",
    "        y, sr = librosa.load(WAV_DIR+f, sr = 22050)\n",
    "        \n",
    "        feature_list = [f]\n",
    "\n",
    "        feature_list.append(np.mean(abs(y)))\n",
    "        feature_list.append(np.std(y))\n",
    "        feature_list.append(scipy.stats.skew(abs(y)))\n",
    "        feature_list.append(scipy.stats.kurtosis(y))\n",
    "\n",
    "        zcr = librosa.feature.zero_crossing_rate(y + 0.0001, frame_length=2048, hop_length=512)[0]\n",
    "        feature_list.append(np.mean(zcr))\n",
    "        feature_list.append(np.std(zcr))\n",
    "\n",
    "        rmse = librosa.feature.rmse(y + 0.0001)[0]\n",
    "        feature_list.append(np.mean(rmse))\n",
    "        feature_list.append(np.std(rmse))\n",
    "        \n",
    "        tempo = librosa.beat.tempo(y, sr=sr)\n",
    "        feature_list.extend(tempo)\n",
    "\n",
    "        spectral_centroids = librosa.feature.spectral_centroid(y+0.01, sr=sr)[0]\n",
    "        feature_list.append(np.mean(spectral_centroids))\n",
    "        feature_list.append(np.std(spectral_centroids))\n",
    "\n",
    "        spectral_bandwidth_2 = librosa.feature.spectral_bandwidth(y+0.01, sr=sr, p=2)[0]\n",
    "        spectral_bandwidth_3 = librosa.feature.spectral_bandwidth(y+0.01, sr=sr, p=3)[0]\n",
    "        spectral_bandwidth_4 = librosa.feature.spectral_bandwidth(y+0.01, sr=sr, p=4)[0]\n",
    "        feature_list.append(np.mean(spectral_bandwidth_2))\n",
    "        feature_list.append(np.std(spectral_bandwidth_2))\n",
    "        feature_list.append(np.mean(spectral_bandwidth_3))\n",
    "        feature_list.append(np.std(spectral_bandwidth_3))\n",
    "        feature_list.append(np.mean(spectral_bandwidth_3))\n",
    "        feature_list.append(np.std(spectral_bandwidth_3))\n",
    "\n",
    "        spectral_contrast = librosa.feature.spectral_contrast(y, sr=sr, n_bands = 6, fmin = 200.0)\n",
    "        feature_list.extend(np.mean(spectral_contrast, axis=1))\n",
    "        feature_list.extend(np.std(spectral_contrast, axis=1))\n",
    "\n",
    "        spectral_rolloff = librosa.feature.spectral_rolloff(y+0.01, sr=sr, roll_percent = 0.85)[0]\n",
    "        feature_list.append(np.mean(spectral_rolloff))\n",
    "        feature_list.append(np.std(spectral_rolloff))\n",
    "\n",
    "        mfccs = librosa.feature.mfcc(y, sr=sr, n_mfcc=20)\n",
    "        feature_list.extend(np.mean(mfccs, axis=1))\n",
    "        feature_list.extend(np.std(mfccs, axis=1))\n",
    "\n",
    "        chroma_stft = librosa.feature.chroma_stft(y, sr=sr, hop_length=1024)\n",
    "        feature_list.extend(np.mean(chroma_stft, axis=1))\n",
    "        feature_list.extend(np.std(chroma_stft, axis=1))\n",
    "        \n",
    "        feature_list[1:] = np.round(feature_list[1:], decimals=3)\n",
    "        \n",
    "    except:\n",
    "        pass\n",
    "    \n",
    "    df = df.append(pd.DataFrame(feature_list, index=col_names).transpose(), ignore_index=True)\n",
    "\n",
    "# Save file\n",
    "df.to_csv('df_features.csv', index=False)"
   ]
  },
  {
   "cell_type": "code",
   "execution_count": 2,
   "metadata": {},
   "outputs": [],
   "source": [
    "df.to_csv('df_features.csv', index=False)"
   ]
  },
  {
   "cell_type": "code",
   "execution_count": null,
   "metadata": {},
   "outputs": [],
   "source": []
  },
  {
   "cell_type": "code",
   "execution_count": null,
   "metadata": {},
   "outputs": [],
   "source": []
  }
 ],
 "metadata": {
  "kernelspec": {
   "display_name": "Python 3",
   "language": "python",
   "name": "python3"
  },
  "language_info": {
   "codemirror_mode": {
    "name": "ipython",
    "version": 3
   },
   "file_extension": ".py",
   "mimetype": "text/x-python",
   "name": "python",
   "nbconvert_exporter": "python",
   "pygments_lexer": "ipython3",
   "version": "3.6.5"
  }
 },
 "nbformat": 4,
 "nbformat_minor": 2
}
