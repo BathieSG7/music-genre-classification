{
 "cells": [
  {
   "cell_type": "code",
   "execution_count": 2,
   "metadata": {},
   "outputs": [],
   "source": [
    "import youtube_dl\n",
    "import re\n",
    "import os\n",
    "from tqdm import tqdm\n",
    "import pandas as pd\n",
    "import numpy as np"
   ]
  },
  {
   "cell_type": "code",
   "execution_count": 3,
   "metadata": {},
   "outputs": [],
   "source": [
    "WAV_DIR = 'wav_files/'\n",
    "genre_dict = {\n",
    "            '/m/064t9': 'Pop_music',\n",
    "            '/m/0glt670': 'Hip_hop_music',\n",
    "            '/m/0y4f8': 'Vocal',\n",
    "            '/m/06cqb': 'Reggae',\n",
    "\n",
    "            }\n",
    "\n",
    "genre_set = set(genre_dict.keys())\n",
    "\n",
    "genre_labels=list(genre_dict.values())\n"
   ]
  },
  {
   "cell_type": "code",
   "execution_count": 4,
   "metadata": {},
   "outputs": [],
   "source": [
    "temp_str = []\n",
    "with open('data-files/csv_files/unbalanced_train_segments.csv', 'r') as f:\n",
    "    temp_str = f.readlines()"
   ]
  },
  {
   "cell_type": "code",
   "execution_count": 5,
   "metadata": {},
   "outputs": [
    {
     "name": "stderr",
     "output_type": "stream",
     "text": [
      "100%|██████████| 2041792/2041792 [00:52<00:00, 38776.80it/s]\n"
     ]
    }
   ],
   "source": [
    "data = np.ones(shape=(1,4)) \n",
    "for line in tqdm(temp_str):\n",
    "    line = re.sub('\\s?\"', '', line.strip())\n",
    "    elements = line.split(',')\n",
    "    common_elements = list(genre_set.intersection(elements[3:]))\n",
    "    if  common_elements != []:\n",
    "        data = np.vstack([data, np.array(elements[:3]\n",
    "                                         + [genre_dict[common_elements[0]]]).reshape(1, 4)])\n",
    "\n",
    "df = pd.DataFrame(data[1:], columns=['url', 'start_time', 'end_time', 'class_label'])"
   ]
  },
  {
   "cell_type": "code",
   "execution_count": 6,
   "metadata": {},
   "outputs": [
    {
     "data": {
      "text/html": [
       "<div>\n",
       "<style scoped>\n",
       "    .dataframe tbody tr th:only-of-type {\n",
       "        vertical-align: middle;\n",
       "    }\n",
       "\n",
       "    .dataframe tbody tr th {\n",
       "        vertical-align: top;\n",
       "    }\n",
       "\n",
       "    .dataframe thead th {\n",
       "        text-align: right;\n",
       "    }\n",
       "</style>\n",
       "<table border=\"1\" class=\"dataframe\">\n",
       "  <thead>\n",
       "    <tr style=\"text-align: right;\">\n",
       "      <th></th>\n",
       "      <th>url</th>\n",
       "      <th>start_time</th>\n",
       "      <th>end_time</th>\n",
       "      <th>class_label</th>\n",
       "    </tr>\n",
       "  </thead>\n",
       "  <tbody>\n",
       "    <tr>\n",
       "      <th>0</th>\n",
       "      <td>--1rvyPa8UM</td>\n",
       "      <td>40.000</td>\n",
       "      <td>50.000</td>\n",
       "      <td>Hip_hop_music</td>\n",
       "    </tr>\n",
       "    <tr>\n",
       "      <th>1</th>\n",
       "      <td>--4kp9W7cNY</td>\n",
       "      <td>160.000</td>\n",
       "      <td>170.000</td>\n",
       "      <td>Reggae</td>\n",
       "    </tr>\n",
       "    <tr>\n",
       "      <th>2</th>\n",
       "      <td>--Fti-jdXEI</td>\n",
       "      <td>240.000</td>\n",
       "      <td>250.000</td>\n",
       "      <td>Vocal</td>\n",
       "    </tr>\n",
       "    <tr>\n",
       "      <th>3</th>\n",
       "      <td>--GXulx19TI</td>\n",
       "      <td>80.000</td>\n",
       "      <td>90.000</td>\n",
       "      <td>Pop_music</td>\n",
       "    </tr>\n",
       "    <tr>\n",
       "      <th>4</th>\n",
       "      <td>--MLNYqE2ec</td>\n",
       "      <td>30.000</td>\n",
       "      <td>40.000</td>\n",
       "      <td>Pop_music</td>\n",
       "    </tr>\n",
       "  </tbody>\n",
       "</table>\n",
       "</div>"
      ],
      "text/plain": [
       "           url start_time  end_time    class_label\n",
       "0  --1rvyPa8UM     40.000    50.000  Hip_hop_music\n",
       "1  --4kp9W7cNY    160.000   170.000         Reggae\n",
       "2  --Fti-jdXEI    240.000   250.000          Vocal\n",
       "3  --GXulx19TI     80.000    90.000      Pop_music\n",
       "4  --MLNYqE2ec     30.000    40.000      Pop_music"
      ]
     },
     "execution_count": 6,
     "metadata": {},
     "output_type": "execute_result"
    }
   ],
   "source": [
    "df.head()\n"
   ]
  },
  {
   "cell_type": "code",
   "execution_count": 7,
   "metadata": {},
   "outputs": [
    {
     "data": {
      "text/plain": [
       "Pop_music        8659\n",
       "Hip_hop_music    7505\n",
       "Vocal            3468\n",
       "Reggae           2813\n",
       "Name: class_label, dtype: int64"
      ]
     },
     "execution_count": 7,
     "metadata": {},
     "output_type": "execute_result"
    }
   ],
   "source": [
    "df['class_label'].value_counts()\n"
   ]
  },
  {
   "cell_type": "code",
   "execution_count": 6,
   "metadata": {
    "scrolled": true
   },
   "outputs": [
    {
     "data": {
      "text/plain": [
       "Pop_music        8631\n",
       "Hip_hop_music    7199\n",
       "Vocal            3508\n",
       "Reggae           3107\n",
       "Name: class_label, dtype: int64"
      ]
     },
     "execution_count": 6,
     "metadata": {},
     "output_type": "execute_result"
    }
   ],
   "source": [
    "with open('your_file.txt', 'r') as f:\n",
    "    for item in indice:\n",
    "        f.read(\"%s\\n\" % item)"
   ]
  },
  {
   "cell_type": "code",
   "execution_count": null,
   "metadata": {},
   "outputs": [],
   "source": []
  },
  {
   "cell_type": "code",
   "execution_count": 7,
   "metadata": {},
   "outputs": [],
   "source": [
    "# take only 1k  audio clips - to make the data more balanced\n",
    "np.random.seed(10)\n",
    "drop_values=list(df['class_label'].value_counts())\n",
    "x=[1000,1000,1000,1000]\n",
    "drop_values=[a_i - b_i for a_i, b_i in zip(drop_values, x)]\n",
    "\n",
    "for value,label in zip(drop_values,genre_labels) :\n",
    "    drop_indices = np.random.choice(df[df['class_label'] == label].index, size=value, replace=False)\n",
    "    df.drop(labels=drop_indices, axis=0, inplace=True)\n",
    "    df.reset_index(drop=True, inplace=False)\n",
    "\n",
    "# Time to INT \n",
    "df['start_time'] = df['start_time'].map(lambda x: np.int32(np.float(x)))\n",
    "df['end_time'] = df['end_time'].map(lambda x: np.int32(np.float(x)))"
   ]
  },
  {
   "cell_type": "code",
   "execution_count": 7,
   "metadata": {},
   "outputs": [],
   "source": []
  },
  {
   "cell_type": "code",
   "execution_count": 8,
   "metadata": {},
   "outputs": [
    {
     "data": {
      "text/plain": [
       "Hip_hop_music    1000\n",
       "Pop_music        1000\n",
       "Vocal            1000\n",
       "Reggae           1000\n",
       "Name: class_label, dtype: int64"
      ]
     },
     "execution_count": 8,
     "metadata": {},
     "output_type": "execute_result"
    }
   ],
   "source": [
    "df['class_label'].value_counts()"
   ]
  },
  {
   "cell_type": "markdown",
   "metadata": {},
   "source": [
    "Example:<br>\n",
    "Step 1:<br>\n",
    "`ffmpeg -ss 5 -i $(youtube-dl -f 140 --get-url 'https://www.youtube.com/embed/---1_cCGK4M') -t 10 -c:v copy -c:a copy test.mp4`<br>\n",
    "Starting time is 5 seconds, duration is 10s.\n",
    "\n",
    "Refer: https://github.com/rg3/youtube-dl/issues/622\n",
    "\n",
    "Step 2:<br>\n",
    "`ffmpeg -i test.mp4 -vn -acodec pcm_s16le -ar 44100 -ac 1 output.wav` <br>\n",
    "PCM-16, 44k sampling, 1-channel (Mono)\n",
    "<br>\n",
    "Refer: https://superuser.com/questions/609740/extracting-wav-from-mp4-while-preserving-the-highest-possible-quality"
   ]
  },
  {
   "cell_type": "code",
   "execution_count": null,
   "metadata": {},
   "outputs": [],
   "source": [
    "for i, row in tqdm(df.iterrows()):\n",
    "    url = \"'https://www.youtube.com/embed/\" + row['url'] + \"'\"\n",
    "    file_name = str(i)+\"_\"+row['class_label']\n",
    "    \n",
    "    try:\n",
    "        command_1 = \"ffmpeg -ss \" + str(row['start_time']) + \" -i $(youtube-dl -f 140 --get-url \" +\\\n",
    "                    url + \") -t 15 -c:v copy -c:a copy \" + file_name + \".mp4\"\n",
    "\n",
    "        command_2 = \"ffmpeg -i \"+ file_name +\".mp4 -vn -acodec pcm_s16le -ar 44100 -ac 1 \" + WAV_DIR + file_name + \".wav\"\n",
    "\n",
    "        command_3 = 'rm ' + file_name + '.mp4' \n",
    "\n",
    "        # Run the 3 commands\n",
    "        os.system(command_1 + ';' + command_2 + ';' + command_3 + ';')\n",
    "    \n",
    "    except:\n",
    "        print(i, url)\n",
    "        pass"
   ]
  },
  {
   "cell_type": "code",
   "execution_count": 46,
   "metadata": {},
   "outputs": [
    {
     "name": "stderr",
     "output_type": "stream",
     "text": [
      "4000it [00:00, 13385.93it/s]\n"
     ]
    }
   ],
   "source": []
  },
  {
   "cell_type": "code",
   "execution_count": 48,
   "metadata": {},
   "outputs": [
    {
     "data": {
      "text/plain": [
       "4000"
      ]
     },
     "execution_count": 48,
     "metadata": {},
     "output_type": "execute_result"
    }
   ],
   "source": []
  },
  {
   "cell_type": "code",
   "execution_count": null,
   "metadata": {},
   "outputs": [],
   "source": []
  },
  {
   "cell_type": "code",
   "execution_count": null,
   "metadata": {},
   "outputs": [],
   "source": []
  },
  {
   "cell_type": "code",
   "execution_count": null,
   "metadata": {},
   "outputs": [],
   "source": []
  },
  {
   "cell_type": "code",
   "execution_count": 53,
   "metadata": {},
   "outputs": [],
   "source": []
  },
  {
   "cell_type": "code",
   "execution_count": null,
   "metadata": {},
   "outputs": [],
   "source": []
  }
 ],
 "metadata": {
  "kernelspec": {
   "display_name": "Python 3",
   "language": "python",
   "name": "python3"
  },
  "language_info": {
   "codemirror_mode": {
    "name": "ipython",
    "version": 3
   },
   "file_extension": ".py",
   "mimetype": "text/x-python",
   "name": "python",
   "nbconvert_exporter": "python",
   "pygments_lexer": "ipython3",
   "version": "3.7.2"
  }
 },
 "nbformat": 4,
 "nbformat_minor": 2
}
