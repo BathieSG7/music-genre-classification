{
 "cells": [
  {
   "cell_type": "code",
   "execution_count": 3,
   "metadata": {},
   "outputs": [],
   "source": [
    "from IPython.display import Audio\n",
    "import librosa\n",
    "from librosa import display\n",
    "import numpy as np\n",
    "import scipy\n",
    "from matplotlib import pyplot as plt\n",
    "plt.style.use('ggplot')\n",
    "%matplotlib inline"
   ]
  },
  {
   "cell_type": "code",
   "execution_count": 4,
   "metadata": {},
   "outputs": [
    {
     "ename": "FileNotFoundError",
     "evalue": "[Errno 2] No such file or directory: '/home/samba/Documents/GITHUB/music-genre-classification/wav_files/45601_Reggae.wav'",
     "output_type": "error",
     "traceback": [
      "\u001b[0;31m---------------------------------------------------------------------------\u001b[0m",
      "\u001b[0;31mFileNotFoundError\u001b[0m                         Traceback (most recent call last)",
      "\u001b[0;32m<ipython-input-4-366a0dd46dfa>\u001b[0m in \u001b[0;36m<module>\u001b[0;34m()\u001b[0m\n\u001b[0;32m----> 1\u001b[0;31m \u001b[0my\u001b[0m\u001b[0;34m,\u001b[0m \u001b[0msr\u001b[0m \u001b[0;34m=\u001b[0m \u001b[0mlibrosa\u001b[0m\u001b[0;34m.\u001b[0m\u001b[0mload\u001b[0m\u001b[0;34m(\u001b[0m\u001b[0;34m'wav_files/45601_Reggae.wav'\u001b[0m\u001b[0;34m,\u001b[0m \u001b[0msr\u001b[0m \u001b[0;34m=\u001b[0m \u001b[0;36m22050\u001b[0m\u001b[0;34m)\u001b[0m \u001b[0;31m# Use the default sampling rate of 22,050 Hz\u001b[0m\u001b[0;34m\u001b[0m\u001b[0;34m\u001b[0m\u001b[0m\n\u001b[0m",
      "\u001b[0;32m~/anaconda3/lib/python3.7/site-packages/librosa/core/audio.py\u001b[0m in \u001b[0;36mload\u001b[0;34m(path, sr, mono, offset, duration, dtype, res_type)\u001b[0m\n\u001b[1;32m    117\u001b[0m \u001b[0;34m\u001b[0m\u001b[0m\n\u001b[1;32m    118\u001b[0m     \u001b[0my\u001b[0m \u001b[0;34m=\u001b[0m \u001b[0;34m[\u001b[0m\u001b[0;34m]\u001b[0m\u001b[0;34m\u001b[0m\u001b[0;34m\u001b[0m\u001b[0m\n\u001b[0;32m--> 119\u001b[0;31m     \u001b[0;32mwith\u001b[0m \u001b[0maudioread\u001b[0m\u001b[0;34m.\u001b[0m\u001b[0maudio_open\u001b[0m\u001b[0;34m(\u001b[0m\u001b[0mos\u001b[0m\u001b[0;34m.\u001b[0m\u001b[0mpath\u001b[0m\u001b[0;34m.\u001b[0m\u001b[0mrealpath\u001b[0m\u001b[0;34m(\u001b[0m\u001b[0mpath\u001b[0m\u001b[0;34m)\u001b[0m\u001b[0;34m)\u001b[0m \u001b[0;32mas\u001b[0m \u001b[0minput_file\u001b[0m\u001b[0;34m:\u001b[0m\u001b[0;34m\u001b[0m\u001b[0;34m\u001b[0m\u001b[0m\n\u001b[0m\u001b[1;32m    120\u001b[0m         \u001b[0msr_native\u001b[0m \u001b[0;34m=\u001b[0m \u001b[0minput_file\u001b[0m\u001b[0;34m.\u001b[0m\u001b[0msamplerate\u001b[0m\u001b[0;34m\u001b[0m\u001b[0;34m\u001b[0m\u001b[0m\n\u001b[1;32m    121\u001b[0m         \u001b[0mn_channels\u001b[0m \u001b[0;34m=\u001b[0m \u001b[0minput_file\u001b[0m\u001b[0;34m.\u001b[0m\u001b[0mchannels\u001b[0m\u001b[0;34m\u001b[0m\u001b[0;34m\u001b[0m\u001b[0m\n",
      "\u001b[0;32m~/anaconda3/lib/python3.7/site-packages/audioread/__init__.py\u001b[0m in \u001b[0;36maudio_open\u001b[0;34m(path)\u001b[0m\n\u001b[1;32m     78\u001b[0m     \u001b[0;32mfrom\u001b[0m \u001b[0;34m.\u001b[0m \u001b[0;32mimport\u001b[0m \u001b[0mrawread\u001b[0m\u001b[0;34m\u001b[0m\u001b[0;34m\u001b[0m\u001b[0m\n\u001b[1;32m     79\u001b[0m     \u001b[0;32mtry\u001b[0m\u001b[0;34m:\u001b[0m\u001b[0;34m\u001b[0m\u001b[0;34m\u001b[0m\u001b[0m\n\u001b[0;32m---> 80\u001b[0;31m         \u001b[0;32mreturn\u001b[0m \u001b[0mrawread\u001b[0m\u001b[0;34m.\u001b[0m\u001b[0mRawAudioFile\u001b[0m\u001b[0;34m(\u001b[0m\u001b[0mpath\u001b[0m\u001b[0;34m)\u001b[0m\u001b[0;34m\u001b[0m\u001b[0;34m\u001b[0m\u001b[0m\n\u001b[0m\u001b[1;32m     81\u001b[0m     \u001b[0;32mexcept\u001b[0m \u001b[0mDecodeError\u001b[0m\u001b[0;34m:\u001b[0m\u001b[0;34m\u001b[0m\u001b[0;34m\u001b[0m\u001b[0m\n\u001b[1;32m     82\u001b[0m         \u001b[0;32mpass\u001b[0m\u001b[0;34m\u001b[0m\u001b[0;34m\u001b[0m\u001b[0m\n",
      "\u001b[0;32m~/anaconda3/lib/python3.7/site-packages/audioread/rawread.py\u001b[0m in \u001b[0;36m__init__\u001b[0;34m(self, filename)\u001b[0m\n\u001b[1;32m     59\u001b[0m     \"\"\"\n\u001b[1;32m     60\u001b[0m     \u001b[0;32mdef\u001b[0m \u001b[0m__init__\u001b[0m\u001b[0;34m(\u001b[0m\u001b[0mself\u001b[0m\u001b[0;34m,\u001b[0m \u001b[0mfilename\u001b[0m\u001b[0;34m)\u001b[0m\u001b[0;34m:\u001b[0m\u001b[0;34m\u001b[0m\u001b[0;34m\u001b[0m\u001b[0m\n\u001b[0;32m---> 61\u001b[0;31m         \u001b[0mself\u001b[0m\u001b[0;34m.\u001b[0m\u001b[0m_fh\u001b[0m \u001b[0;34m=\u001b[0m \u001b[0mopen\u001b[0m\u001b[0;34m(\u001b[0m\u001b[0mfilename\u001b[0m\u001b[0;34m,\u001b[0m \u001b[0;34m'rb'\u001b[0m\u001b[0;34m)\u001b[0m\u001b[0;34m\u001b[0m\u001b[0;34m\u001b[0m\u001b[0m\n\u001b[0m\u001b[1;32m     62\u001b[0m \u001b[0;34m\u001b[0m\u001b[0m\n\u001b[1;32m     63\u001b[0m         \u001b[0;32mtry\u001b[0m\u001b[0;34m:\u001b[0m\u001b[0;34m\u001b[0m\u001b[0;34m\u001b[0m\u001b[0m\n",
      "\u001b[0;31mFileNotFoundError\u001b[0m: [Errno 2] No such file or directory: '/home/samba/Documents/GITHUB/music-genre-classification/wav_files/45601_Reggae.wav'"
     ]
    }
   ],
   "source": [
    "y, sr = librosa.load('wav_files/45601_Reggae.wav', sr = 22050) # Use the default sampling rate of 22,050 Hz"
   ]
  },
  {
   "cell_type": "code",
   "execution_count": null,
   "metadata": {},
   "outputs": [],
   "source": [
    "Audio(y, rate = sr)"
   ]
  },
  {
   "cell_type": "code",
   "execution_count": null,
   "metadata": {},
   "outputs": [],
   "source": [
    "plt.figure(figsize=(15,2))\n",
    "librosa.display.waveplot(y  = y,\n",
    "                     sr     = sr, \n",
    "                     max_sr = 1000, \n",
    "                     alpha  = 0.25, \n",
    "                     color  = 'red')"
   ]
  },
  {
   "cell_type": "markdown",
   "metadata": {},
   "source": [
    "### Part I: Time Domain Features"
   ]
  },
  {
   "cell_type": "markdown",
   "metadata": {},
   "source": [
    "1) Statistical moments calculated on the raw audio"
   ]
  },
  {
   "cell_type": "code",
   "execution_count": null,
   "metadata": {},
   "outputs": [],
   "source": [
    "print('Signal mean = {:.2f}'.format(np.mean(abs(y))))\n",
    "print('Signal std dev = {:.2f}'.format(np.std(y)))\n",
    "print('Signal skewness = {:.2f}'.format(scipy.stats.skew(abs(y))))\n",
    "print('Signal kurtosis = {:.2f}'.format(scipy.stats.kurtosis(y)))"
   ]
  },
  {
   "cell_type": "markdown",
   "metadata": {},
   "source": [
    "2) Zero crossing rate"
   ]
  },
  {
   "cell_type": "code",
   "execution_count": null,
   "metadata": {},
   "outputs": [],
   "source": [
    "# Add a small constant before computing the zero crossing rate to disregard unwanted silence 'noise'\n",
    "zcr = librosa.feature.zero_crossing_rate(y + 0.0001, frame_length=2048, hop_length=512)[0]\n",
    "plt.figure(figsize=(15,2))\n",
    "plt.plot(zcr)\n",
    "plt.ylabel('Zero Crossing Rate')\n",
    "print('ZCR mean = {:.2f}'.format(np.mean(zcr)))\n",
    "print('ZCR std dev = {:.2f}'.format(np.std(zcr)))"
   ]
  },
  {
   "cell_type": "markdown",
   "metadata": {},
   "source": [
    "3) Root Mean Squared Energy"
   ]
  },
  {
   "cell_type": "code",
   "execution_count": null,
   "metadata": {},
   "outputs": [],
   "source": [
    "rmse = librosa.feature.rmse(y + 0.0001)[0]\n",
    "plt.figure(figsize=(15,2))\n",
    "plt.plot(rmse)\n",
    "plt.ylabel('RMSE')\n",
    "print('RMSE mean = {:.2f}'.format(np.mean(rmse)))\n",
    "print('RMSE std dev = {:.2f}'.format(np.std(rmse)))"
   ]
  },
  {
   "cell_type": "code",
   "execution_count": null,
   "metadata": {},
   "outputs": [],
   "source": []
  },
  {
   "cell_type": "markdown",
   "metadata": {},
   "source": [
    "### Part II: Spectral Features"
   ]
  },
  {
   "cell_type": "markdown",
   "metadata": {},
   "source": [
    "1) Spectral Centroid: frequency area around which most of the signal energy concentrates<br>\n",
    "$f_c = \\frac{\\Sigma_k S(k)f(k)}{\\Sigma_k S(k)}$<br>\n",
    "where  S(k) is the spectral magnitude at frequency bin  k <br>\n",
    "f(k) is the frequency at bin  k"
   ]
  },
  {
   "cell_type": "code",
   "execution_count": null,
   "metadata": {},
   "outputs": [],
   "source": [
    "spectral_centroids = librosa.feature.spectral_centroid(y+0.01, sr=sr)[0]\n",
    "plt.figure(figsize=(15,2))\n",
    "plt.plot(spectral_centroids)\n",
    "plt.ylabel('Spectral Centroid')\n",
    "print('Spectral Centroid mean = {:.2f}'.format(np.mean(spectral_centroids)))\n",
    "print('Spectral Centroid std dev = {:.2f}'.format(np.std(spectral_centroids)))"
   ]
  },
  {
   "cell_type": "markdown",
   "metadata": {},
   "source": [
    "2) Spectral Band-width: Other moments calculated around the spectral centroid <br>\n",
    "$f_c = (\\Sigma_k S(k)f(k) - f_c)^\\frac{1}{p}$ <br>\n",
    "When  p=2 this is like a weighted standard deviation."
   ]
  },
  {
   "cell_type": "code",
   "execution_count": null,
   "metadata": {},
   "outputs": [],
   "source": [
    "spectral_bandwidth_2 = librosa.feature.spectral_bandwidth(y+0.01, sr=sr, p=2)[0]\n",
    "spectral_bandwidth_3 = librosa.feature.spectral_bandwidth(y+0.01, sr=sr, p=3)[0]\n",
    "spectral_bandwidth_4 = librosa.feature.spectral_bandwidth(y+0.01, sr=sr, p=4)[0]\n",
    "plt.figure(figsize=(15,2))\n",
    "plt.plot(spectral_bandwidth_2)\n",
    "plt.plot(spectral_bandwidth_3)\n",
    "plt.plot(spectral_bandwidth_4)\n",
    "plt.ylabel('Spectral Bandwidths')\n",
    "print('Spectral Bandwidth-2 mean = {:.2f}'.format(np.mean(spectral_bandwidth_2)))\n",
    "print('Spectral Bandwidth-2 std dev = {:.2f}'.format(np.std(spectral_bandwidth_2)))\n",
    "print('Spectral Bandwidth-3 mean = {:.2f}'.format(np.mean(spectral_bandwidth_3)))\n",
    "print('Spectral Bandwidth-3 std dev = {:.2f}'.format(np.std(spectral_bandwidth_3)))\n",
    "print('Spectral Bandwidth-4 mean = {:.2f}'.format(np.mean(spectral_bandwidth_4)))\n",
    "print('Spectral Bandwidth-4 std dev = {:.2f}'.format(np.std(spectral_bandwidth_4)))\n",
    "# Highly Correlated features may cause issues in the model building"
   ]
  },
  {
   "cell_type": "markdown",
   "metadata": {},
   "source": [
    "3) Spectral Contrast: considers the spectral peak, the spectral valley, and their difference in each frequency subband. Usually, 6 sub-bands"
   ]
  },
  {
   "cell_type": "code",
   "execution_count": null,
   "metadata": {},
   "outputs": [],
   "source": [
    "# Frequency cutoff for the first bin `[0, fmin]`\n",
    "# Subsequent bins will cover `[fmin, 2*fmin]`, `[2*fmin, 4*fmin]\n",
    "# Bins are on log scale\n",
    "spectral_contrast = librosa.feature.spectral_contrast(y, sr=sr, n_bands = 6, fmin = 200.0)\n",
    "plt.figure(figsize=(15,2))\n",
    "plt.imshow(spectral_contrast, aspect='auto', origin='lower', cmap='jet')\n",
    "plt.colorbar()\n",
    "print('Means', np.mean(spectral_contrast, axis=1)) # Values are on dB scale\n",
    "print('Std devs', np.std(spectral_contrast, axis=1)) "
   ]
  },
  {
   "cell_type": "markdown",
   "metadata": {},
   "source": [
    "4) Spectral Roll-off: the frequency below which a specified percentage of the total spectral energy, e.g. 85%, lies."
   ]
  },
  {
   "cell_type": "code",
   "execution_count": null,
   "metadata": {},
   "outputs": [],
   "source": [
    "spectral_rolloff = librosa.feature.spectral_rolloff(y+0.01, sr=sr, roll_percent = 0.85)[0]\n",
    "plt.figure(figsize=(15,2))\n",
    "plt.plot(spectral_rolloff)\n",
    "plt.ylabel('Spectral Centroid')\n",
    "print('Spectral Centroid mean = {:.2f}'.format(np.mean(spectral_rolloff)))\n",
    "print('Spectral Centroid std dev = {:.2f}'.format(np.std(spectral_rolloff)))\n",
    "\n",
    "# What would be a good roll_percent to use?"
   ]
  },
  {
   "cell_type": "markdown",
   "metadata": {},
   "source": [
    "5) Mel-Frequency Cepstral Coefficients"
   ]
  },
  {
   "cell_type": "code",
   "execution_count": null,
   "metadata": {},
   "outputs": [],
   "source": [
    "mfccs = librosa.feature.mfcc(y, sr=sr, n_mfcc=20)\n",
    "plt.figure(figsize=(15,2))\n",
    "plt.imshow(mfccs, aspect='auto', origin='lower', cmap='jet')\n",
    "plt.colorbar()\n",
    "print('Means', np.mean(mfccs, axis=1)) \n",
    "print('Std devs', np.std(mfccs, axis=1)) "
   ]
  },
  {
   "cell_type": "markdown",
   "metadata": {},
   "source": [
    "6) Chroma Features (STFT)\n",
    "A chroma vector (Wikipedia) is a typically a 12-element feature vector indicating how much energy of each pitch class, {C, C#, D, D#, E, ..., B}, is present in the signal."
   ]
  },
  {
   "cell_type": "code",
   "execution_count": null,
   "metadata": {},
   "outputs": [],
   "source": [
    "chroma_stft = librosa.feature.chroma_stft(y, sr=sr, hop_length=1024)\n",
    "plt.figure(figsize=(15,2))\n",
    "plt.imshow(chroma_stft, aspect='auto', origin='lower', cmap='jet')\n",
    "plt.colorbar()\n",
    "print('Means', np.mean(chroma_stft, axis=1)) \n",
    "print('Std devs', np.std(chroma_stft, axis=1)) "
   ]
  },
  {
   "cell_type": "markdown",
   "metadata": {},
   "source": [
    "7) Chroma Features (CQT)"
   ]
  },
  {
   "cell_type": "code",
   "execution_count": null,
   "metadata": {},
   "outputs": [],
   "source": [
    "chroma_cqt = librosa.feature.chroma_cqt(y, sr=sr, hop_length=1024)\n",
    "plt.figure(figsize=(15,2))\n",
    "plt.imshow(chroma_cqt, aspect='auto', origin='lower', cmap='jet')\n",
    "plt.colorbar()\n",
    "print('Means', np.mean(chroma_cqt, axis=1)) \n",
    "print('Std devs', np.std(chroma_cqt, axis=1)) "
   ]
  },
  {
   "cell_type": "markdown",
   "metadata": {},
   "source": [
    "8) Chroma Features (CENS) - Chroma energy normalized statistics"
   ]
  },
  {
   "cell_type": "code",
   "execution_count": null,
   "metadata": {},
   "outputs": [],
   "source": [
    "chroma_cens = librosa.feature.chroma_cens(y, sr=sr, hop_length=512)\n",
    "plt.figure(figsize=(15,2))\n",
    "plt.imshow(chroma_cens, aspect='auto', origin='lower', cmap='jet')\n",
    "plt.colorbar()\n",
    "print('Means', np.mean(chroma_cens, axis=1)) \n",
    "print('Std devs', np.std(chroma_cens, axis=1)) "
   ]
  },
  {
   "cell_type": "code",
   "execution_count": null,
   "metadata": {},
   "outputs": [],
   "source": []
  },
  {
   "cell_type": "code",
   "execution_count": null,
   "metadata": {},
   "outputs": [],
   "source": [
    "import os\n",
    "import numpy as np\n",
    "import pandas as pd\n",
    "import scipy\n",
    "import librosa\n",
    "from tqdm import tqdm"
   ]
  },
  {
   "cell_type": "code",
   "execution_count": null,
   "metadata": {},
   "outputs": [],
   "source": [
    "WAV_DIR = 'wav_files/'\n",
    "wav_files = os.listdir(WAV_DIR)[:10]"
   ]
  },
  {
   "cell_type": "code",
   "execution_count": null,
   "metadata": {},
   "outputs": [],
   "source": [
    "col_names = ['file_name', 'signal_mean', 'signal_std', 'signal_skew', 'signal_kurtosis', \n",
    "             'zcr_mean', 'zcr_std', 'rmse_mean', 'rmse_std', 'tempo',\n",
    "             'spectral_centroid_mean', 'spectral_centroid_std',\n",
    "             'spectral_bandwidth_2_mean', 'spectral_bandwidth_2_std',\n",
    "             'spectral_bandwidth_3_mean', 'spectral_bandwidth_3_std',\n",
    "             'spectral_bandwidth_4_mean', 'spectral_bandwidth_4_std'] + \\\n",
    "            ['spectral_contrast_' + str(i+1) + '_mean' for i in range(7)] + \\\n",
    "            ['spectral_contrast_' + str(i+1) + '_std' for i in range(7)] + \\\n",
    "            ['spectral_rolloff_mean', 'spectral_rolloff_std'] + \\\n",
    "            ['mfccs_' + str(i+1) + '_mean' for i in range(20)] + \\\n",
    "            ['mfccs_' + str(i+1) + '_std' for i in range(20)] + \\\n",
    "            ['chroma_stft_' + str(i+1) + '_mean' for i in range(12)] + \\\n",
    "            ['chroma_stft_' + str(i+1) + '_std' for i in range(12)] \n",
    "            \n",
    "df = pd.DataFrame(columns=col_names)"
   ]
  },
  {
   "cell_type": "code",
   "execution_count": null,
   "metadata": {},
   "outputs": [],
   "source": [
    "for f in tqdm(wav_files[:10]):\n",
    "    try:\n",
    "        # Read wav-file\n",
    "        y, sr = librosa.load(WAV_DIR+f, sr = 22050)\n",
    "        \n",
    "        feature_list = [f]\n",
    "\n",
    "        feature_list.append(np.mean(abs(y)))\n",
    "        feature_list.append(np.std(y))\n",
    "        feature_list.append(scipy.stats.skew(abs(y)))\n",
    "        feature_list.append(scipy.stats.kurtosis(y))\n",
    "\n",
    "        zcr = librosa.feature.zero_crossing_rate(y + 0.0001, frame_length=2048, hop_length=512)[0]\n",
    "        feature_list.append(np.mean(zcr))\n",
    "        feature_list.append(np.std(zcr))\n",
    "\n",
    "        rmse = librosa.feature.rmse(y + 0.0001)[0]\n",
    "        feature_list.append(np.mean(rmse))\n",
    "        feature_list.append(np.std(rmse))\n",
    "        \n",
    "        tempo = librosa.beat.tempo(y, sr=sr)\n",
    "        feature_list.extend(tempo)\n",
    "\n",
    "        spectral_centroids = librosa.feature.spectral_centroid(y+0.01, sr=sr)[0]\n",
    "        feature_list.append(np.mean(spectral_centroids))\n",
    "        feature_list.append(np.std(spectral_centroids))\n",
    "\n",
    "        spectral_bandwidth_2 = librosa.feature.spectral_bandwidth(y+0.01, sr=sr, p=2)[0]\n",
    "        spectral_bandwidth_3 = librosa.feature.spectral_bandwidth(y+0.01, sr=sr, p=3)[0]\n",
    "        spectral_bandwidth_4 = librosa.feature.spectral_bandwidth(y+0.01, sr=sr, p=4)[0]\n",
    "        feature_list.append(np.mean(spectral_bandwidth_2))\n",
    "        feature_list.append(np.std(spectral_bandwidth_2))\n",
    "        feature_list.append(np.mean(spectral_bandwidth_3))\n",
    "        feature_list.append(np.std(spectral_bandwidth_3))\n",
    "        feature_list.append(np.mean(spectral_bandwidth_3))\n",
    "        feature_list.append(np.std(spectral_bandwidth_3))\n",
    "\n",
    "        spectral_contrast = librosa.feature.spectral_contrast(y, sr=sr, n_bands = 6, fmin = 200.0)\n",
    "        feature_list.extend(np.mean(spectral_contrast, axis=1))\n",
    "        feature_list.extend(np.std(spectral_contrast, axis=1))\n",
    "\n",
    "        spectral_rolloff = librosa.feature.spectral_rolloff(y+0.01, sr=sr, roll_percent = 0.85)[0]\n",
    "        feature_list.append(np.mean(spectral_rolloff))\n",
    "        feature_list.append(np.std(spectral_rolloff))\n",
    "\n",
    "        mfccs = librosa.feature.mfcc(y, sr=sr, n_mfcc=20)\n",
    "        feature_list.extend(np.mean(mfccs, axis=1))\n",
    "        feature_list.extend(np.std(mfccs, axis=1))\n",
    "\n",
    "        chroma_stft = librosa.feature.chroma_stft(y, sr=sr, hop_length=1024)\n",
    "        feature_list.extend(np.mean(chroma_stft, axis=1))\n",
    "        feature_list.extend(np.std(chroma_stft, axis=1))\n",
    "        \n",
    "        feature_list[1:] = np.round(feature_list[1:], decimals=3)\n",
    "        \n",
    "    except:\n",
    "        pass\n",
    "    \n",
    "    df = df.append(pd.DataFrame(feature_list, index=col_names).transpose(), ignore_index=True)\n",
    "\n",
    "# Save file\n",
    "df.to_csv('df_features.csv', index=False)"
   ]
  },
  {
   "cell_type": "code",
   "execution_count": null,
   "metadata": {},
   "outputs": [],
   "source": []
  },
  {
   "cell_type": "code",
   "execution_count": null,
   "metadata": {},
   "outputs": [],
   "source": []
  }
 ],
 "metadata": {
  "kernelspec": {
   "display_name": "Python 3",
   "language": "python",
   "name": "python3"
  },
  "language_info": {
   "codemirror_mode": {
    "name": "ipython",
    "version": 3
   },
   "file_extension": ".py",
   "mimetype": "text/x-python",
   "name": "python",
   "nbconvert_exporter": "python",
   "pygments_lexer": "ipython3",
   "version": "3.7.2"
  }
 },
 "nbformat": 4,
 "nbformat_minor": 2
}
