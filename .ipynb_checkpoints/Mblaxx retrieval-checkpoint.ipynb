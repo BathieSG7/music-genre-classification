{
 "cells": [
  {
   "cell_type": "code",
   "execution_count": 97,
   "metadata": {},
   "outputs": [],
   "source": [
    "a=5\n"
   ]
  },
  {
   "cell_type": "code",
   "execution_count": 98,
   "metadata": {},
   "outputs": [
    {
     "data": {
      "text/plain": [
       "3"
      ]
     },
     "execution_count": 98,
     "metadata": {},
     "output_type": "execute_result"
    }
   ],
   "source": [
    "b=3\n",
    "b"
   ]
  },
  {
   "cell_type": "code",
   "execution_count": 103,
   "metadata": {},
   "outputs": [
    {
     "name": "stderr",
     "output_type": "stream",
     "text": [
      "\n",
      "  0%|          | 0/22 [00:00<?, ?it/s]\u001b[A\n",
      "  5%|▍         | 1/22 [00:01<00:26,  1.27s/it]\u001b[A\n",
      "  9%|▉         | 2/22 [00:02<00:24,  1.24s/it]\u001b[A\n",
      " 14%|█▎        | 3/22 [00:03<00:23,  1.22s/it]\u001b[A"
     ]
    },
    {
     "name": "stdout",
     "output_type": "stream",
     "text": [
      "https://www.youtube.com/watch?v=KSMZDMRG9qs&list=PLWZEJ0yx4-tKQK9ITJOdREh8yEHLUvmA7\n"
     ]
    },
    {
     "name": "stderr",
     "output_type": "stream",
     "text": [
      "\n",
      " 18%|█▊        | 4/22 [00:05<00:23,  1.28s/it]\u001b[A\n",
      " 23%|██▎       | 5/22 [00:06<00:21,  1.28s/it]\u001b[A\n",
      " 27%|██▋       | 6/22 [00:07<00:18,  1.19s/it]\u001b[A\n",
      " 32%|███▏      | 7/22 [00:08<00:17,  1.18s/it]\u001b[A\n",
      " 36%|███▋      | 8/22 [00:09<00:14,  1.07s/it]\u001b[A"
     ]
    },
    {
     "name": "stdout",
     "output_type": "stream",
     "text": [
      "https://www.youtube.com/watch?v=eCIHPdx1OAs&list=PLF9F9ll40VBH39gYNullGw4VGcCgej3wB\n"
     ]
    },
    {
     "name": "stderr",
     "output_type": "stream",
     "text": [
      "\n",
      " 41%|████      | 9/22 [00:10<00:14,  1.09s/it]\u001b[A\n",
      " 45%|████▌     | 10/22 [00:11<00:13,  1.15s/it]\u001b[A\n",
      " 50%|█████     | 11/22 [00:13<00:13,  1.20s/it]\u001b[A\n",
      " 55%|█████▍    | 12/22 [00:14<00:11,  1.20s/it]\u001b[A\n",
      " 59%|█████▉    | 13/22 [00:15<00:10,  1.19s/it]\u001b[A\n",
      " 64%|██████▎   | 14/22 [00:16<00:08,  1.12s/it]\u001b[A\n",
      " 68%|██████▊   | 15/22 [00:19<00:12,  1.74s/it]\u001b[A\n",
      " 73%|███████▎  | 16/22 [00:22<00:12,  2.05s/it]\u001b[A\n",
      " 77%|███████▋  | 17/22 [00:23<00:09,  1.89s/it]\u001b[A\n",
      " 82%|████████▏ | 18/22 [00:25<00:07,  1.86s/it]\u001b[A\n",
      " 86%|████████▋ | 19/22 [00:26<00:04,  1.63s/it]\u001b[A\n",
      " 91%|█████████ | 20/22 [00:28<00:03,  1.63s/it]\u001b[A\n",
      " 95%|█████████▌| 21/22 [00:33<00:02,  2.62s/it]\u001b[A\n",
      "100%|██████████| 22/22 [00:34<00:00,  2.12s/it]\u001b[A\n",
      "\u001b[A"
     ]
    }
   ],
   "source": [
    "from tqdm import tqdm\n",
    "from pytube import Playlist\n",
    "\n",
    "urls=[]\n",
    "Mbalax_playlist_url = [\"https://www.youtube.com/watch?v=K2IOjDPrSU8&list=PLtWWWQhBn_RyZtJ1JcGwsIPJl08tc5Ehv\",\"https://www.youtube.com/watch?v=7kDjvElGobY&list=PLtWWWQhBn_Rx-avVzSk4D7hPIXmWqLEst\",\"https://www.youtube.com/watch?v=KSMZDMRG9qs&list=PLWZEJ0yx4-tKQK9ITJOdREh8yEHLUvmA7\",\"https://www.youtube.com/watch?v=p9CeELOCqJc&list=PLvIlGxMc-v2fdjSePIoPYqA4tZh-HaJei\",\"https://www.youtube.com/watch?v=JUrBe8NQyuA&list=PLCTc1nZN8Zwya-DqG63TE16OmfcQwSQtC\",\"https://www.youtube.com/watch?v=JKFwXuJX8ko&list=RDJKFwXuJX8ko&start_radio=1\",\"https://www.youtube.com/watch?v=A0DNg5V1PvI&list=PLMppv2sG2ltilSeD37czVThVweLKyTdBw\",\"https://www.youtube.com/watch?v=eCIHPdx1OAs&list=PLF9F9ll40VBH39gYNullGw4VGcCgej3wB\",\"https://www.youtube.com/watch?v=usl8RwzF8uo&list=PLYHGlfpxSCTtUf4332Apqi78xjTtM5o_D\",\"https://www.youtube.com/watch?v=-68iBlCcAGk&list=PLrUpdmc3MdzL_DXsNh3k1rA8vlWylCM4J\",\"https://www.youtube.com/watch?v=7gu3-qBGKv4&list=PLOY2_UZTll0fOzwo-w7B5c16ufa9pC0rf\",\"https://www.youtube.com/watch?v=FOalxHCnNQo&list=PLFnGK7kM7SQLcgo8nnWlkGOaUcDd8cz9i\",\"https://www.youtube.com/watch?v=KyHHWqD-1WI&list=PLcl-nSzRkQhAq4aRrGUzRX7o2WL471GbP\",\"https://www.youtube.com/watch?v=FfevS5XdMQE&list=RDFfevS5XdMQE&start_radio=1&t=0\",\"https://www.youtube.com/watch?v=S8zpp-Ij3vQ&list=PLd1rUVM-dFHblPuWcF8nQDybib2oigJR3\",\"https://www.youtube.com/watch?v=oE5nUdM77hg&list=PL19FFC8869A5132E0\",\"https://www.youtube.com/watch?v=f49HDjS-aug&list=PLyFu7Os08dFvrfYfphIvv-H523WWL58J4\",\"https://www.youtube.com/watch?v=at5--ZV7LII&list=PL5P4e8URdQnwkMZq9vSICp6M0bgVKh7rC\",\"https://www.youtube.com/watch?v=9GzSCieLHtQ&list=PLRfTdjatNb2PAnGOEqjEy2vKSeLoygueW\",\"https://www.youtube.com/watch?v=dRRoQ7Pc0W0&list=PL6m78yRGonerSeVaztxYWspu0DkzZhppH\",\"https://www.youtube.com/watch?v=wqCpjFMvz-k&list=PLpM0rIgR6BUop8bjpbPKbqOxWawusf4Zl\",\"https://www.youtube.com/watch?v=_yPBYtmeMRw&list=RD_yPBYtmeMRw&start_radio=1\"]\n",
    "\n",
    "for playlist in tqdm(Mbalax_playlist_url):\n",
    "   \n",
    "    try: \n",
    "        pl = Playlist(playlist)\n",
    "        pl.populate_video_urls()\n",
    "        urls += pl.video_urls\n",
    "\n",
    "    except:\n",
    "        print(playlist)\n",
    "        pass"
   ]
  },
  {
   "cell_type": "code",
   "execution_count": 93,
   "metadata": {},
   "outputs": [
    {
     "data": {
      "text/plain": [
       "1048"
      ]
     },
     "execution_count": 93,
     "metadata": {},
     "output_type": "execute_result"
    }
   ],
   "source": [
    "from tqdm import tqdm\n",
    "from pytube import Playlist\n",
    "\n",
    "urls=[]\n",
    "Mbalax_playlist_url = [\"https://www.youtube.com/watch?v=CHHF4iy3P-Q&list=PL21D2436A34182497\",\"https://www.youtube.com/watch?v=K2IOjDPrSU8&list=PLtWWWQhBn_RyZtJ1JcGwsIPJl08tc5Ehv\",\"https://www.youtube.com/watch?v=7kDjvElGobY&list=PLtWWWQhBn_Rx-avVzSk4D7hPIXmWqLEst\",\"https://www.youtube.com/watch?v=KSMZDMRG9qs&list=PLWZEJ0yx4-tKQK9ITJOdREh8yEHLUvmA7\",\"https://www.youtube.com/watch?v=p9CeELOCqJc&list=PLvIlGxMc-v2fdjSePIoPYqA4tZh-HaJei\",\"https://www.youtube.com/watch?v=JUrBe8NQyuA&list=PLCTc1nZN8Zwya-DqG63TE16OmfcQwSQtC\",\"https://www.youtube.com/watch?v=JKFwXuJX8ko&list=RDJKFwXuJX8ko&start_radio=1\",\"https://www.youtube.com/watch?v=A0DNg5V1PvI&list=PLMppv2sG2ltilSeD37czVThVweLKyTdBw\",\"https://www.youtube.com/watch?v=eCIHPdx1OAs&list=PLF9F9ll40VBH39gYNullGw4VGcCgej3wB\",\"https://www.youtube.com/watch?v=usl8RwzF8uo&list=PLYHGlfpxSCTtUf4332Apqi78xjTtM5o_D\",\"https://www.youtube.com/watch?v=-68iBlCcAGk&list=PLrUpdmc3MdzL_DXsNh3k1rA8vlWylCM4J\",\"https://www.youtube.com/watch?v=7gu3-qBGKv4&list=PLOY2_UZTll0fOzwo-w7B5c16ufa9pC0rf\",\"https://www.youtube.com/watch?v=FOalxHCnNQo&list=PLFnGK7kM7SQLcgo8nnWlkGOaUcDd8cz9i\",\"https://www.youtube.com/watch?v=KyHHWqD-1WI&list=PLcl-nSzRkQhAq4aRrGUzRX7o2WL471GbP\",\"https://www.youtube.com/watch?v=FfevS5XdMQE&list=RDFfevS5XdMQE&start_radio=1&t=0\",\"https://www.youtube.com/watch?v=S8zpp-Ij3vQ&list=PLd1rUVM-dFHblPuWcF8nQDybib2oigJR3\",\"https://www.youtube.com/watch?v=oE5nUdM77hg&list=PL19FFC8869A5132E0\",\"https://www.youtube.com/watch?v=f49HDjS-aug&list=PLyFu7Os08dFvrfYfphIvv-H523WWL58J4\",\"https://www.youtube.com/watch?v=at5--ZV7LII&list=PL5P4e8URdQnwkMZq9vSICp6M0bgVKh7rC\",\"https://www.youtube.com/watch?v=9GzSCieLHtQ&list=PLRfTdjatNb2PAnGOEqjEy2vKSeLoygueW\",\"https://www.youtube.com/watch?v=dRRoQ7Pc0W0&list=PL6m78yRGonerSeVaztxYWspu0DkzZhppH\",\"https://www.youtube.com/watch?v=wqCpjFMvz-k&list=PLpM0rIgR6BUop8bjpbPKbqOxWawusf4Zl\",\"https://www.youtube.com/watch?v=_yPBYtmeMRw&list=RD_yPBYtmeMRw&start_radio=1\"]\n",
    "\n",
    "for playlist in tqdm(Mbalax_playlist_url):\n",
    "   \n",
    "    try: \n",
    "        pl = Playlist(playlist)\n",
    "        pl.populate_video_urls()\n",
    "        urls += pl.video_urls\n",
    "\n",
    "    except:\n",
    "        print(playlist)\n",
    "        pass"
   ]
  },
  {
   "cell_type": "code",
   "execution_count": 91,
   "metadata": {},
   "outputs": [
    {
     "data": {
      "text/plain": [
       "10"
      ]
     },
     "execution_count": 91,
     "metadata": {},
     "output_type": "execute_result"
    }
   ],
   "source": [
    "counter=0\n",
    "for url in tqdm(urls):\n",
    "    file_name = str(counter)+\"_\"+row['class_label']\n",
    "    counter+=1\n",
    "    try:\n",
    "        command_1 = \"ffmpeg -ss \" + \"60\" + \" -i $(youtube-dl -f 140 --get-url \" +\\\n",
    "                    url + \") -t 15 -c:v copy -c:a copy \" + file_name + \".mp4\"\n",
    "\n",
    "        command_2 = \"ffmpeg -i \"+ file_name +\".mp4 -vn -acodec pcm_s16le -ar 44100 -ac 1 \" + WAV_DIR + file_name + \".wav\"\n",
    "\n",
    "        command_3 = 'rm ' + file_name + '.mp4' \n",
    "\n",
    "        # Run the 3 commands\n",
    "        os.system(command_1 + ';' + command_2 + ';' + command_3 + ';')"
   ]
  },
  {
   "cell_type": "code",
   "execution_count": null,
   "metadata": {},
   "outputs": [],
   "source": [
    "\"https://www.youtube.com/watch?v=Tztc73r8348&list=PL4o29bINVT4EG_y-k5jGoOu3-Am8Nvi10\""
   ]
  },
  {
   "cell_type": "code",
   "execution_count": 107,
   "metadata": {
    "scrolled": true
   },
   "outputs": [
    {
     "name": "stderr",
     "output_type": "stream",
     "text": [
      "\n",
      "  0%|          | 0/1 [00:00<?, ?it/s]\u001b[A\n",
      "100%|██████████| 1/1 [00:04<00:00,  4.58s/it]\u001b[A\n",
      "\u001b[A"
     ]
    }
   ],
   "source": [
    "from tqdm import tqdm\n",
    "from pytube import Playlist\n",
    "\n",
    "urls=[]\n",
    "Autre = [\"https://www.youtube.com/watch?v=Tztc73r8348&list=PL4o29bINVT4EG_y-k5jGoOu3-Am8Nvi10\"]\n",
    "for playlist in tqdm(Autre):\n",
    "   \n",
    "    try: \n",
    "        pl = Playlist(playlist)\n",
    "        pl.populate_video_urls()\n",
    "        urls += pl.video_urls\n",
    "\n",
    "    except:\n",
    "        print(playlist)\n",
    "        pass"
   ]
  },
  {
   "cell_type": "code",
   "execution_count": null,
   "metadata": {},
   "outputs": [],
   "source": []
  },
  {
   "cell_type": "code",
   "execution_count": null,
   "metadata": {},
   "outputs": [
    {
     "name": "stderr",
     "output_type": "stream",
     "text": [
      "\n",
      "  0%|          | 0/240 [00:00<?, ?it/s]\u001b[A\n",
      "  0%|          | 1/240 [00:14<56:42, 14.23s/it]\u001b[A\n",
      "  1%|          | 2/240 [00:18<44:50, 11.30s/it]\u001b[A\n",
      "  1%|▏         | 3/240 [00:22<36:09,  9.16s/it]\u001b[A\n",
      "  2%|▏         | 4/240 [00:27<30:41,  7.80s/it]\u001b[A\n",
      "  2%|▏         | 5/240 [00:30<25:29,  6.51s/it]\u001b[A\n",
      "  2%|▎         | 6/240 [00:35<22:41,  5.82s/it]\u001b[A\n",
      "  3%|▎         | 7/240 [00:39<20:27,  5.27s/it]\u001b[A\n",
      "  3%|▎         | 8/240 [00:43<19:35,  5.07s/it]\u001b[A"
     ]
    }
   ],
   "source": [
    "WAV_DIR = 'wav_files/'\n",
    "counter=0\n",
    "for url in tqdm(urls):\n",
    "    file_name = \"#\"+str(counter)+\"_\"+\"Pop_music\"\n",
    "    counter+=1\n",
    "\n",
    "    command_1 = \"ffmpeg -ss \" + \"90\" + \" -i $(youtube-dl -f 140 --get-url \" +\\\n",
    "                url + \") -t 15 -c:v copy -c:a copy \" + file_name + \".mp4\"\n",
    "\n",
    "    command_2 = \"ffmpeg -i \"+ file_name +\".mp4 -vn -acodec pcm_s16le -ar 44100 -ac 1 \" + WAV_DIR + file_name + \".wav\"\n",
    "\n",
    "    command_3 = 'rm ' + file_name + '.mp4' \n",
    "\n",
    "    # Run the 3 commands\n",
    "    os.system(command_1 + ';' + command_2 + ';' + command_3 + ';')"
   ]
  },
  {
   "cell_type": "code",
   "execution_count": null,
   "metadata": {},
   "outputs": [],
   "source": [
    ",\"https://www.youtube.com/watch?v=393C3pr2ioY&list=PLZ6k8u-wUAXrGbyfmJERlnIc8frGKJRlt\",\"reggae music playlist 2019\"]"
   ]
  }
 ],
 "metadata": {
  "kernelspec": {
   "display_name": "Python 3",
   "language": "python",
   "name": "python3"
  },
  "language_info": {
   "codemirror_mode": {
    "name": "ipython",
    "version": 3
   },
   "file_extension": ".py",
   "mimetype": "text/x-python",
   "name": "python",
   "nbconvert_exporter": "python",
   "pygments_lexer": "ipython3",
   "version": "3.7.2"
  }
 },
 "nbformat": 4,
 "nbformat_minor": 2
}
