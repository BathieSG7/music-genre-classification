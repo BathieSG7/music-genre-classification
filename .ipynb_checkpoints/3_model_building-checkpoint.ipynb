{
 "cells": [
  {
   "cell_type": "code",
   "execution_count": 122,
   "metadata": {},
   "outputs": [],
   "source": [
    "import pandas as pd\n",
    "import numpy as np\n",
    "import xgboost as xgb\n",
    "import itertools\n",
    "import pickle\n",
    "import matplotlib\n",
    "from matplotlib import pyplot as plt\n",
    "from sklearn.linear_model import LogisticRegression\n",
    "from sklearn.svm import SVC\n",
    "from sklearn.ensemble import RandomForestClassifier\n",
    "from sklearn.model_selection import train_test_split\n",
    "from sklearn.preprocessing import MinMaxScaler, OneHotEncoder\n",
    "from sklearn.feature_selection import SelectFromModel\n",
    "from sklearn.utils.class_weight import compute_class_weight\n",
    "from sklearn.decomposition import PCA\n",
    "from sklearn.manifold import TSNE\n",
    "from sklearn.metrics import confusion_matrix, f1_score, accuracy_score, roc_auc_score, roc_curve, auc\n",
    "from scipy import interp\n",
    "from itertools import cycle\n",
    "\n",
    "# matplotlib.rcParams.update({'font.size': 14})\n",
    "%matplotlib inline"
   ]
  },
  {
   "cell_type": "code",
   "execution_count": null,
   "metadata": {},
   "outputs": [],
   "source": [
    "df = pd.read_csv('df_features.csv')\n",
    "print(df.shape)\n",
    "df.head()\n"
   ]
  },
  {
   "cell_type": "code",
   "execution_count": 124,
   "metadata": {},
   "outputs": [
    {
     "data": {
      "text/html": [
       "<div>\n",
       "<style scoped>\n",
       "    .dataframe tbody tr th:only-of-type {\n",
       "        vertical-align: middle;\n",
       "    }\n",
       "\n",
       "    .dataframe tbody tr th {\n",
       "        vertical-align: top;\n",
       "    }\n",
       "\n",
       "    .dataframe thead th {\n",
       "        text-align: right;\n",
       "    }\n",
       "</style>\n",
       "<table border=\"1\" class=\"dataframe\">\n",
       "  <thead>\n",
       "    <tr style=\"text-align: right;\">\n",
       "      <th></th>\n",
       "      <th>file_name</th>\n",
       "      <th>signal_mean</th>\n",
       "      <th>signal_std</th>\n",
       "      <th>signal_skew</th>\n",
       "      <th>signal_kurtosis</th>\n",
       "      <th>zcr_mean</th>\n",
       "      <th>zcr_std</th>\n",
       "      <th>rmse_mean</th>\n",
       "      <th>rmse_std</th>\n",
       "      <th>tempo</th>\n",
       "      <th>...</th>\n",
       "      <th>chroma_stft_4_std</th>\n",
       "      <th>chroma_stft_5_std</th>\n",
       "      <th>chroma_stft_6_std</th>\n",
       "      <th>chroma_stft_7_std</th>\n",
       "      <th>chroma_stft_8_std</th>\n",
       "      <th>chroma_stft_9_std</th>\n",
       "      <th>chroma_stft_10_std</th>\n",
       "      <th>chroma_stft_11_std</th>\n",
       "      <th>chroma_stft_12_std</th>\n",
       "      <th>label</th>\n",
       "    </tr>\n",
       "  </thead>\n",
       "  <tbody>\n",
       "    <tr>\n",
       "      <th>0</th>\n",
       "      <td>53#_Reggae.wav</td>\n",
       "      <td>0.246462</td>\n",
       "      <td>0.312856</td>\n",
       "      <td>0.408123</td>\n",
       "      <td>0.069042</td>\n",
       "      <td>0.178495</td>\n",
       "      <td>0.162896</td>\n",
       "      <td>0.300795</td>\n",
       "      <td>0.317647</td>\n",
       "      <td>0.187777</td>\n",
       "      <td>...</td>\n",
       "      <td>0.647208</td>\n",
       "      <td>0.521964</td>\n",
       "      <td>0.666667</td>\n",
       "      <td>0.853107</td>\n",
       "      <td>0.607143</td>\n",
       "      <td>0.642317</td>\n",
       "      <td>0.483180</td>\n",
       "      <td>0.610951</td>\n",
       "      <td>0.640449</td>\n",
       "      <td>2</td>\n",
       "    </tr>\n",
       "    <tr>\n",
       "      <th>1</th>\n",
       "      <td>89#_Hip_hop_music.wav</td>\n",
       "      <td>0.253538</td>\n",
       "      <td>0.313993</td>\n",
       "      <td>0.373361</td>\n",
       "      <td>0.053570</td>\n",
       "      <td>0.163441</td>\n",
       "      <td>0.217195</td>\n",
       "      <td>0.296254</td>\n",
       "      <td>0.384314</td>\n",
       "      <td>0.453968</td>\n",
       "      <td>...</td>\n",
       "      <td>0.464467</td>\n",
       "      <td>0.754522</td>\n",
       "      <td>0.788136</td>\n",
       "      <td>0.675141</td>\n",
       "      <td>0.583333</td>\n",
       "      <td>0.523929</td>\n",
       "      <td>0.669725</td>\n",
       "      <td>0.590778</td>\n",
       "      <td>0.384831</td>\n",
       "      <td>0</td>\n",
       "    </tr>\n",
       "    <tr>\n",
       "      <th>2</th>\n",
       "      <td>3507_Hip_hop_music.wav</td>\n",
       "      <td>0.191038</td>\n",
       "      <td>0.263936</td>\n",
       "      <td>0.396536</td>\n",
       "      <td>0.075177</td>\n",
       "      <td>0.200000</td>\n",
       "      <td>0.280543</td>\n",
       "      <td>0.222474</td>\n",
       "      <td>0.505882</td>\n",
       "      <td>0.498331</td>\n",
       "      <td>...</td>\n",
       "      <td>0.274112</td>\n",
       "      <td>0.542636</td>\n",
       "      <td>0.483051</td>\n",
       "      <td>0.649718</td>\n",
       "      <td>0.532738</td>\n",
       "      <td>0.624685</td>\n",
       "      <td>0.645260</td>\n",
       "      <td>0.449568</td>\n",
       "      <td>0.460674</td>\n",
       "      <td>0</td>\n",
       "    </tr>\n",
       "    <tr>\n",
       "      <th>3</th>\n",
       "      <td>22186_Reggae.wav</td>\n",
       "      <td>0.403302</td>\n",
       "      <td>0.469852</td>\n",
       "      <td>0.302551</td>\n",
       "      <td>0.029028</td>\n",
       "      <td>0.182796</td>\n",
       "      <td>0.203620</td>\n",
       "      <td>0.460840</td>\n",
       "      <td>0.349020</td>\n",
       "      <td>0.601853</td>\n",
       "      <td>...</td>\n",
       "      <td>0.342640</td>\n",
       "      <td>0.506460</td>\n",
       "      <td>0.579096</td>\n",
       "      <td>0.485876</td>\n",
       "      <td>0.485119</td>\n",
       "      <td>0.382872</td>\n",
       "      <td>0.425076</td>\n",
       "      <td>0.233429</td>\n",
       "      <td>0.407303</td>\n",
       "      <td>2</td>\n",
       "    </tr>\n",
       "    <tr>\n",
       "      <th>4</th>\n",
       "      <td>17170_Hip_hop_music.wav</td>\n",
       "      <td>0.155660</td>\n",
       "      <td>0.203641</td>\n",
       "      <td>0.469569</td>\n",
       "      <td>0.104860</td>\n",
       "      <td>0.137634</td>\n",
       "      <td>0.239819</td>\n",
       "      <td>0.189557</td>\n",
       "      <td>0.282353</td>\n",
       "      <td>0.731249</td>\n",
       "      <td>...</td>\n",
       "      <td>0.370558</td>\n",
       "      <td>0.397933</td>\n",
       "      <td>0.618644</td>\n",
       "      <td>0.502825</td>\n",
       "      <td>0.622024</td>\n",
       "      <td>0.559194</td>\n",
       "      <td>0.636086</td>\n",
       "      <td>0.682997</td>\n",
       "      <td>0.665730</td>\n",
       "      <td>0</td>\n",
       "    </tr>\n",
       "  </tbody>\n",
       "</table>\n",
       "<p>5 rows × 99 columns</p>\n",
       "</div>"
      ],
      "text/plain": [
       "                 file_name  signal_mean  signal_std  signal_skew  \\\n",
       "0           53#_Reggae.wav     0.246462    0.312856     0.408123   \n",
       "1    89#_Hip_hop_music.wav     0.253538    0.313993     0.373361   \n",
       "2   3507_Hip_hop_music.wav     0.191038    0.263936     0.396536   \n",
       "3         22186_Reggae.wav     0.403302    0.469852     0.302551   \n",
       "4  17170_Hip_hop_music.wav     0.155660    0.203641     0.469569   \n",
       "\n",
       "   signal_kurtosis  zcr_mean   zcr_std  rmse_mean  rmse_std     tempo  ...    \\\n",
       "0         0.069042  0.178495  0.162896   0.300795  0.317647  0.187777  ...     \n",
       "1         0.053570  0.163441  0.217195   0.296254  0.384314  0.453968  ...     \n",
       "2         0.075177  0.200000  0.280543   0.222474  0.505882  0.498331  ...     \n",
       "3         0.029028  0.182796  0.203620   0.460840  0.349020  0.601853  ...     \n",
       "4         0.104860  0.137634  0.239819   0.189557  0.282353  0.731249  ...     \n",
       "\n",
       "   chroma_stft_4_std  chroma_stft_5_std  chroma_stft_6_std  chroma_stft_7_std  \\\n",
       "0           0.647208           0.521964           0.666667           0.853107   \n",
       "1           0.464467           0.754522           0.788136           0.675141   \n",
       "2           0.274112           0.542636           0.483051           0.649718   \n",
       "3           0.342640           0.506460           0.579096           0.485876   \n",
       "4           0.370558           0.397933           0.618644           0.502825   \n",
       "\n",
       "   chroma_stft_8_std  chroma_stft_9_std  chroma_stft_10_std  \\\n",
       "0           0.607143           0.642317            0.483180   \n",
       "1           0.583333           0.523929            0.669725   \n",
       "2           0.532738           0.624685            0.645260   \n",
       "3           0.485119           0.382872            0.425076   \n",
       "4           0.622024           0.559194            0.636086   \n",
       "\n",
       "   chroma_stft_11_std  chroma_stft_12_std  label  \n",
       "0            0.610951            0.640449      2  \n",
       "1            0.590778            0.384831      0  \n",
       "2            0.449568            0.460674      0  \n",
       "3            0.233429            0.407303      2  \n",
       "4            0.682997            0.665730      0  \n",
       "\n",
       "[5 rows x 99 columns]"
      ]
     },
     "execution_count": 124,
     "metadata": {},
     "output_type": "execute_result"
    }
   ],
   "source": [
    "label_dict = {'Hip':0,\n",
    "              'Pop':1,\n",
    "              'Reggae':2,\n",
    "              'Mbalax':3\n",
    "             }\n",
    "\n",
    "# Normalization of the features\n",
    "scalar = MinMaxScaler()\n",
    "df[df.columns[1:]] = scalar.fit_transform(df[df.columns[1:]])\n",
    "df['label'] = df['file_name'].apply(lambda x: label_dict[x.split('_')[1]])\n",
    "df.head()"
   ]
  },
  {
   "cell_type": "code",
   "execution_count": 125,
   "metadata": {},
   "outputs": [
    {
     "name": "stdout",
     "output_type": "stream",
     "text": [
      "taille de Hip= 1071\n",
      "taille de Pop= 1096\n",
      "taille de Reggae= 984\n",
      "taille de Mbalax= 984\n"
     ]
    }
   ],
   "source": [
    "# We retrieve all the songs for each genre\n",
    "\n",
    "wav_files = list(df[\"file_name\"]) # listing files\n",
    "\n",
    "genres=['Hip','Pop','Reggae','Mbalax']\n",
    "genres_files={'Hip':[],\n",
    "              'Pop':[],\n",
    "              'Reggae':[],\n",
    "              'Mbalax':[]\n",
    "             }\n",
    "\n",
    "for genre in genres :\n",
    "    for filename in wav_files:\n",
    "        if genre in filename:\n",
    "            genres_files[genre].append(filename)\n",
    "    print(\"taille de \"+ genre+ \"= \"+str(len(genres_files[genre])))           \n",
    "    "
   ]
  },
  {
   "cell_type": "code",
   "execution_count": 126,
   "metadata": {},
   "outputs": [
    {
     "name": "stdout",
     "output_type": "stream",
     "text": [
      "taille de Hip= 214\n",
      "taille de Pop= 219\n",
      "taille de Reggae= 197\n",
      "taille de Mbalax= 197\n"
     ]
    }
   ],
   "source": [
    "# retrieve only 20percent of each genre for testing\n",
    "genres_files_test={'Hip':[],\n",
    "              'Pop':[],\n",
    "              'Reggae':[],\n",
    "              'Mbalax':[]\n",
    "             }\n",
    "for genre in genres:\n",
    "    i=0\n",
    "    end=round(0.2*len(genres_files[genre]))\n",
    "    for filename in genres_files[genre]:\n",
    "        genres_files_test[genre].append(filename)\n",
    "        i+=1\n",
    "        if i==end :\n",
    "            break\n",
    "    print(\"taille de \"+ genre+ \"= \"+str(len(genres_files_test[genre])))   \n",
    "            "
   ]
  },
  {
   "cell_type": "code",
   "execution_count": 77,
   "metadata": {},
   "outputs": [],
   "source": [
    "# list of test files\n",
    "test_files=[]\n",
    "for genre in genres:\n",
    "    test_files+=genres_files_test[genre]\n",
    "len(test_files)\n",
    "\n",
    "with open('testset_filenames.txt', 'w') as f:\n",
    "    for file in test_files:\n",
    "        f.write(\"%s\\n\" % file)"
   ]
  },
  {
   "cell_type": "code",
   "execution_count": 127,
   "metadata": {},
   "outputs": [],
   "source": [
    "# Train-test split of files # Same split as used for VGG model\n",
    "with open('pred_probas/testset_filenames.txt', 'r') as f:\n",
    "    test_files = f.readlines()\n",
    "test_files = [t.strip() for t in test_files]\n",
    "\n",
    "indices = []\n",
    "for t in test_files:\n",
    "    indices.append(df[df.file_name==t].index[0])\n",
    "    \n",
    "df_test = df.iloc[indices,:]\n",
    "df.drop(labels=indices, inplace=True)\n",
    "\n",
    "cl_weight = dict(pd.Series(df['label']).value_counts(normalize=True))\n",
    "\n",
    "x_train = np.asarray(df[df.columns[1:-1]])\n",
    "x_test = np.asarray(df_test[df.columns[1:-1]])\n",
    "y_train = np.asarray(df['label'])\n",
    "y_test = np.asarray(df_test['label'])\n"
   ]
  },
  {
   "cell_type": "code",
   "execution_count": 128,
   "metadata": {},
   "outputs": [],
   "source": [
    "def plot_confusion_matrix(cm, classes,\n",
    "                          normalize=False,\n",
    "                          title='Confusion matrix',\n",
    "                          cmap=plt.cm.Blues):\n",
    "    \"\"\"\n",
    "    This function prints and plots the confusion matrix.\n",
    "    Normalization can be applied by setting `normalize=True`.\n",
    "    \"\"\"\n",
    "    # plt.figure(figsize=(8,8))\n",
    "    plt.imshow(cm, interpolation='nearest', cmap=cmap)\n",
    "    plt.title(title)\n",
    "    plt.colorbar()\n",
    "    tick_marks = np.arange(len(classes))\n",
    "    plt.xticks(tick_marks, classes, rotation=45)\n",
    "    plt.yticks(tick_marks, classes)\n",
    "\n",
    "    if normalize:\n",
    "        cm = cm.astype('float') / cm.sum(axis=1)[:, np.newaxis]\n",
    "        print(\"Normalized confusion matrix\")\n",
    "    else:\n",
    "        print('Confusion matrix, without normalization')\n",
    "\n",
    "    print(cm)\n",
    "\n",
    "    thresh = cm.max() / 2.\n",
    "    for i, j in itertools.product(range(cm.shape[0]), range(cm.shape[1])):\n",
    "        plt.text(j, i, cm[i, j],\n",
    "                 horizontalalignment=\"center\",\n",
    "                 color=\"white\" if cm[i, j] > thresh else \"black\")\n",
    "\n",
    "    plt.tight_layout()\n",
    "    plt.ylabel('True label')\n",
    "    plt.xlabel('Predicted label')\n",
    "    \n",
    "def one_hot_encoder(true_labels, num_records, num_classes):\n",
    "    temp = np.array(true_labels[:num_records])\n",
    "    true_labels = np.zeros((num_records, num_classes))\n",
    "    true_labels[np.arange(num_records), temp] = 1\n",
    "    return true_labels\n",
    "\n",
    "def display_results(y_test, pred_probs, cm = True):\n",
    "    pred = np.argmax(pred_probs, axis=-1)\n",
    "    one_hot_true = one_hot_encoder(y_test, len(pred), len(label_dict))\n",
    "    print('Test Set Accuracy =  {0:.2f}'.format(accuracy_score(y_test, pred)))\n",
    "    print('Test Set F-score =  {0:.2f}'.format(f1_score(y_test, pred, average='macro')))\n",
    "    print('ROC AUC = {0:.3f}'.format(roc_auc_score(y_true=one_hot_true, y_score=pred_probs, average='macro')))\n",
    "    if cm:\n",
    "        plot_confusion_matrix(confusion_matrix(y_test, pred), classes=label_dict.keys())"
   ]
  },
  {
   "cell_type": "markdown",
   "metadata": {},
   "source": [
    "### Logistic Regression\n",
    "LR is usually done for binary classification tasks. For this multi-class classification task, the LR is implemented as a one-vs-rest method. That is, 7 separate classifiers are trained. During test time, the class with the highest prob. from among the 7 classifiers is the predicted class."
   ]
  },
  {
   "cell_type": "code",
   "execution_count": 129,
   "metadata": {},
   "outputs": [
    {
     "name": "stderr",
     "output_type": "stream",
     "text": [
      "/home/samba/anaconda3/lib/python3.7/site-packages/sklearn/linear_model/logistic.py:433: FutureWarning: Default solver will be changed to 'lbfgs' in 0.22. Specify a solver to silence this warning.\n",
      "  FutureWarning)\n",
      "/home/samba/anaconda3/lib/python3.7/site-packages/sklearn/linear_model/logistic.py:460: FutureWarning: Default multi_class will be changed to 'auto' in 0.22. Specify the multi_class option to silence this warning.\n",
      "  \"this warning.\", FutureWarning)\n"
     ]
    },
    {
     "name": "stdout",
     "output_type": "stream",
     "text": [
      "Test Set Accuracy =  0.60\n",
      "Test Set F-score =  0.60\n",
      "ROC AUC = 0.822\n",
      "Confusion matrix, without normalization\n",
      "[[134  29  40  11]\n",
      " [ 43 121  22  33]\n",
      " [ 47  36  88  26]\n",
      " [  8  22  12 155]]\n",
      "CPU times: user 468 ms, sys: 16.1 ms, total: 484 ms\n",
      "Wall time: 1.1 s\n"
     ]
    },
    {
     "data": {
      "image/png": "[encoded data removed]",
      "text/plain": [
       "<Figure size 432x288 with 2 Axes>"
      ]
     },
     "metadata": {
      "needs_background": "light"
     },
     "output_type": "display_data"
    }
   ],
   "source": [
    "%%time\n",
    "# Train\n",
    "lr_classifier = LogisticRegression(penalty='l2')\n",
    "lr_classifier.fit(x_train, y_train)\n",
    "\n",
    "# Predict\n",
    "pred_probs = lr_classifier.predict_proba(x_test)\n",
    "\n",
    "# Results\n",
    "display_results(y_test, pred_probs)\n",
    "\n",
    "'''\n",
    "# Save\n",
    "with open('pred_probas/lr_classifier.pkl', 'wb') as f:\n",
    "    pickle.dump(pred_probs, f)\n",
    "\n",
    "# Save the model\n",
    "with open('models_saved/lr_classifier_model.pkl', 'wb') as f:\n",
    "    pickle.dump(lr_classifier, f)\n",
    "'''"
   ]
  },
  {
   "cell_type": "markdown",
   "metadata": {},
   "source": [
    "### Random Forest"
   ]
  },
  {
   "cell_type": "code",
   "execution_count": 130,
   "metadata": {},
   "outputs": [
    {
     "name": "stdout",
     "output_type": "stream",
     "text": [
      "Test Set Accuracy =  0.60\n",
      "Test Set F-score =  0.59\n",
      "ROC AUC = 0.823\n",
      "Confusion matrix, without normalization\n",
      "[[136  34  39   5]\n",
      " [ 42 117  27  33]\n",
      " [ 44  41  90  22]\n",
      " [  6  26  15 150]]\n",
      "CPU times: user 11.5 s, sys: 88.1 ms, total: 11.6 s\n",
      "Wall time: 11.8 s\n"
     ]
    },
    {
     "data": {
      "image/png": "[encoded data removed]",
      "text/plain": [
       "<Figure size 432x288 with 2 Axes>"
      ]
     },
     "metadata": {
      "needs_background": "light"
     },
     "output_type": "display_data"
    }
   ],
   "source": [
    "%%time\n",
    "# Train\n",
    "rf_classifier = RandomForestClassifier(n_estimators=500, min_samples_split=5)\n",
    "rf_classifier.fit(x_train, y_train)\n",
    "\n",
    "# Predict\n",
    "pred_probs = rf_classifier.predict_proba(x_test)\n",
    "\n",
    "# Results\n",
    "display_results(y_test, pred_probs)\n",
    "\n",
    "'''\n",
    "# Save\n",
    "with open('pred_probas/rf_classifier.pkl', 'wb') as f:\n",
    "    pickle.dump(pred_probs, f)\n",
    "\n",
    "# Save the model\n",
    "with open('models_saved/rf_classifier_model.pkl', 'wb') as f:\n",
    "    pickle.dump(rf_classifier, f)\n",
    "'''"
   ]
  },
  {
   "cell_type": "markdown",
   "metadata": {},
   "source": [
    "### Gradient Boosting "
   ]
  },
  {
   "cell_type": "code",
   "execution_count": 113,
   "metadata": {},
   "outputs": [],
   "source": []
  },
  {
   "cell_type": "code",
   "execution_count": 131,
   "metadata": {},
   "outputs": [
    {
     "name": "stdout",
     "output_type": "stream",
     "text": [
      "Test Set Accuracy =  0.63\n",
      "Test Set F-score =  0.63\n",
      "ROC AUC = 0.843\n",
      "Confusion matrix, without normalization\n",
      "[[134  30  41   9]\n",
      " [ 45 125  20  29]\n",
      " [ 34  35 112  16]\n",
      " [  9  23  16 149]]\n",
      "CPU times: user 1min 8s, sys: 42.3 ms, total: 1min 8s\n",
      "Wall time: 1min 9s\n"
     ]
    },
    {
     "data": {
      "image/png": "[encoded data removed]",
      "text/plain": [
       "<Figure size 432x288 with 2 Axes>"
      ]
     },
     "metadata": {
      "needs_background": "light"
     },
     "output_type": "display_data"
    }
   ],
   "source": [
    "%%time\n",
    "# Train\n",
    "xgb_classifier = xgb.XGBClassifier(max_depth=5, learning_rate=0.1, objective='multi:softprob', \n",
    "                                   n_estimators=500, sub_sample = 0.8, num_class = len(label_dict))\n",
    "xgb_classifier.fit(x_train, y_train)\n",
    "\n",
    "# Predict\n",
    "pred_probs = xgb_classifier.predict_proba(x_test)\n",
    "\n",
    "# Results\n",
    "display_results(y_test, pred_probs)\n",
    "\n",
    "'''\n",
    "# Save\n",
    "with open('pred_probas/xgb_classifier.pkl', 'wb') as f:\n",
    "    pickle.dump(pred_probs, f)\n",
    "    \n",
    "# Save the model\n",
    "with open('models_saved/xgb_classifier_model.pkl', 'wb') as f:\n",
    "    pickle.dump(xgb_classifier, f)\n",
    "'''"
   ]
  },
  {
   "cell_type": "code",
   "execution_count": null,
   "metadata": {},
   "outputs": [],
   "source": []
  },
  {
   "cell_type": "code",
   "execution_count": 120,
   "metadata": {},
   "outputs": [
    {
     "data": {
      "text/plain": [
       "3"
      ]
     },
     "execution_count": 120,
     "metadata": {},
     "output_type": "execute_result"
    }
   ],
   "source": []
  },
  {
   "cell_type": "markdown",
   "metadata": {},
   "source": [
    "### Support Vector Machines"
   ]
  },
  {
   "cell_type": "code",
   "execution_count": 133,
   "metadata": {},
   "outputs": [
    {
     "name": "stderr",
     "output_type": "stream",
     "text": [
      "/home/samba/anaconda3/lib/python3.7/site-packages/sklearn/svm/base.py:196: FutureWarning: The default value of gamma will change from 'auto' to 'scale' in version 0.22 to account better for unscaled features. Set gamma explicitly to 'auto' or 'scale' to avoid this warning.\n",
      "  \"avoid this warning.\", FutureWarning)\n"
     ]
    },
    {
     "name": "stdout",
     "output_type": "stream",
     "text": [
      "Test Set Accuracy =  0.62\n",
      "Test Set F-score =  0.62\n",
      "ROC AUC = 0.841\n",
      "Confusion matrix, without normalization\n",
      "[[137  30  38   9]\n",
      " [ 48 120  24  27]\n",
      " [ 36  35 106  20]\n",
      " [ 10  22  16 149]]\n",
      "CPU times: user 18.2 s, sys: 0 ns, total: 18.2 s\n",
      "Wall time: 19 s\n"
     ]
    },
    {
     "data": {
      "image/png": "[encoded data removed]",
      "text/plain": [
       "<Figure size 432x288 with 2 Axes>"
      ]
     },
     "metadata": {
      "needs_background": "light"
     },
     "output_type": "display_data"
    }
   ],
   "source": [
    "%%time\n",
    "# Train\n",
    "svm_classifier = SVC(C=10000.0, probability = True, class_weight=cl_weight, kernel='rbf')\n",
    "svm_classifier.fit(x_train, y_train)\n",
    "\n",
    "# Predict\n",
    "pred_probs = svm_classifier.predict_proba(x_test)\n",
    "\n",
    "# Results\n",
    "display_results(y_test, pred_probs)\n",
    "\n",
    "'''\n",
    "# Save\n",
    "with open('pred_probas/svm_classifier.pkl', 'wb') as f:\n",
    "    pickle.dump(pred_probs, f)\n",
    "    \n",
    "# Save the model\n",
    "with open('models_saved/svm_classifier_model.pkl', 'wb') as f:\n",
    "    pickle.dump(svm_classifier, f)\n",
    "'''"
   ]
  },
  {
   "cell_type": "code",
   "execution_count": null,
   "metadata": {},
   "outputs": [],
   "source": []
  },
  {
   "cell_type": "markdown",
   "metadata": {},
   "source": [
    "### Most Important Feature\n",
    "Determine the features that contribute the most towards making the correct classfication"
   ]
  },
  {
   "cell_type": "code",
   "execution_count": 84,
   "metadata": {},
   "outputs": [
    {
     "data": {
      "image/png": "[encoded data removed]",
      "text/plain": [
       "<Figure size 576x576 with 1 Axes>"
      ]
     },
     "metadata": {
      "needs_background": "light"
     },
     "output_type": "display_data"
    }
   ],
   "source": [
    "ax = xgb.plot_importance(xgb_classifier, max_num_features=20, height=0.5, show_values=False)\n",
    "fig = ax.figure\n",
    "fig.set_size_inches(8, 8)\n",
    "# plt.savefig('plots/feature-imp.png', bbox_inches='tight')"
   ]
  },
  {
   "cell_type": "markdown",
   "metadata": {},
   "source": [
    "The most important features seem to be MFCCs and spectral contrast (mean and std dev in different frequency bins). Use the top N features, build the model and look at the metrics"
   ]
  },
  {
   "cell_type": "code",
   "execution_count": 85,
   "metadata": {},
   "outputs": [
    {
     "data": {
      "text/plain": [
       "array([0.01121707, 0.00919877, 0.01579383, 0.01012301, 0.01314019,\n",
       "       0.03760293, 0.00740181, 0.01119562, 0.01309322, 0.00825624,\n",
       "       0.00869228, 0.00705362, 0.00710473, 0.00619591, 0.00843506,\n",
       "       0.        , 0.        , 0.00839526, 0.01430472, 0.01034082,\n",
       "       0.00853806, 0.00913624, 0.0093743 , 0.00915198, 0.00656488,\n",
       "       0.01197544, 0.00766808, 0.00728824, 0.01303688, 0.00847195,\n",
       "       0.00880526, 0.00822507, 0.0065262 , 0.00938256, 0.02152612,\n",
       "       0.01452174, 0.01173656, 0.00794941, 0.00887269, 0.01066846,\n",
       "       0.00761168, 0.01411054, 0.0095435 , 0.01305379, 0.0114732 ,\n",
       "       0.01718435, 0.00695066, 0.02105542, 0.0116195 , 0.00779377,\n",
       "       0.00911237, 0.00921076, 0.00738704, 0.02679436, 0.03014666,\n",
       "       0.013107  , 0.00831293, 0.0281639 , 0.0096092 , 0.0131368 ,\n",
       "       0.00808404, 0.00644596, 0.00799437, 0.01287661, 0.00889508,\n",
       "       0.00791671, 0.00722552, 0.00693947, 0.00783741, 0.00786192,\n",
       "       0.00981224, 0.00690191, 0.00843781, 0.00713254, 0.00811093,\n",
       "       0.0064886 , 0.00974497, 0.00776198, 0.01541565, 0.01462341,\n",
       "       0.00875453, 0.01092973, 0.00696188, 0.0119888 , 0.00662695,\n",
       "       0.00713409, 0.00947038, 0.00978503, 0.01018794, 0.00672   ,\n",
       "       0.00796923, 0.00655891, 0.00722901, 0.00637935, 0.00914213,\n",
       "       0.00737496, 0.00793735], dtype=float32)"
      ]
     },
     "execution_count": 85,
     "metadata": {},
     "output_type": "execute_result"
    }
   ],
   "source": [
    "contribution_scores = xgb_classifier.feature_importances_\n",
    "contribution_scores"
   ]
  },
  {
   "cell_type": "code",
   "execution_count": 86,
   "metadata": {},
   "outputs": [
    {
     "name": "stdout",
     "output_type": "stream",
     "text": [
      "Stats for top 10 features:\n",
      "Test Set Accuracy =  0.54\n",
      "Test Set F-score =  0.54\n",
      "ROC AUC = 0.768\n",
      "\n",
      "Stats for top 20 features:\n",
      "Test Set Accuracy =  0.58\n",
      "Test Set F-score =  0.58\n",
      "ROC AUC = 0.808\n",
      "\n",
      "Stats for top 30 features:\n",
      "Test Set Accuracy =  0.61\n",
      "Test Set F-score =  0.61\n",
      "ROC AUC = 0.833\n",
      "\n"
     ]
    }
   ],
   "source": [
    "top_n = [10, 20, 30]\n",
    "for n in top_n:\n",
    "    threshold = np.argsort(contribution_scores)[::-1][:n][-1]\n",
    "    print('Stats for top {} features:'.format(n))\n",
    "    # Select features using threshold\n",
    "    selection = SelectFromModel(xgb_classifier, threshold=contribution_scores[threshold], prefit=True)\n",
    "    select_x_train = selection.transform(x_train)\n",
    "    select_x_test = selection.transform(x_test)\n",
    "    \n",
    "    # Train\n",
    "    select_xgb_classifier = xgb.XGBClassifier(max_depth=5, learning_rate=0.1, objective='multi:softprob', \n",
    "                                       n_estimators=500, sub_sample = 0.8, num_class = len(label_dict))\n",
    "    select_xgb_classifier.fit(select_x_train, y_train)\n",
    "\n",
    "    # Predict\n",
    "    pred_probs = select_xgb_classifier.predict_proba(select_x_test)\n",
    "\n",
    "    # Results\n",
    "    display_results(y_test, pred_probs, cm = False)     \n",
    "    print()"
   ]
  },
  {
   "cell_type": "code",
   "execution_count": null,
   "metadata": {},
   "outputs": [],
   "source": []
  },
  {
   "cell_type": "code",
   "execution_count": 136,
   "metadata": {},
   "outputs": [],
   "source": [
    "# Compute macro-average ROC curve and ROC area\n",
    "# Compute ROC curve and ROC area for each class\n",
    "\n",
    "def plot_roc_curves(y_true, pred_probs, label_dict):\n",
    "    fpr = dict()\n",
    "    tpr = dict()\n",
    "    roc_auc = dict()\n",
    "\n",
    "    NUM_CLASSES = len(label_dict)\n",
    "    one_hot_true = one_hot_encoder(y_true, len(y_true), NUM_CLASSES)\n",
    "    for i in range(len(label_dict)):\n",
    "        fpr[i], tpr[i], _ = roc_curve(one_hot_true[:, i], pred_probs[:, i])\n",
    "        roc_auc[i] = auc(fpr[i], tpr[i])    \n",
    "\n",
    "    # First aggregate all false positive rates\n",
    "    all_fpr = np.unique(np.concatenate([fpr[i] for i in range(NUM_CLASSES)]))\n",
    "\n",
    "    # Then interpolate all ROC curves at this points\n",
    "    mean_tpr = np.zeros_like(all_fpr)\n",
    "    for i in range(NUM_CLASSES):\n",
    "        mean_tpr += interp(all_fpr, fpr[i], tpr[i])\n",
    "\n",
    "    # Finally average it and compute AUC\n",
    "    mean_tpr /= NUM_CLASSES\n",
    "\n",
    "    return all_fpr, mean_tpr, auc(all_fpr, mean_tpr)"
   ]
  },
  {
   "cell_type": "code",
   "execution_count": 138,
   "metadata": {},
   "outputs": [
    {
     "data": {
      "image/png": "[encoded data removed]",
      "text/plain": [
       "<Figure size 576x360 with 1 Axes>"
      ]
     },
     "metadata": {
      "needs_background": "light"
     },
     "output_type": "display_data"
    }
   ],
   "source": [
    "# Plot all ROC curves\n",
    "plt.figure(figsize=(8,5))\n",
    "\n",
    "plt.title('Macro-average ROC curves')\n",
    "\n",
    "fpr, tpr, roc_auc = plot_roc_curves(y_test[:n_samples], xgb_pred_probs[:n_samples], label_dict)\n",
    "plt.plot(fpr, tpr,\n",
    "         label='XGBoost (Area = {0:0.3f})'\n",
    "               ''.format(roc_auc),\n",
    "         color='orange', linestyle=':', linewidth=2)\n",
    "\n",
    "\n",
    "plt.plot([0, 1], [0, 1], 'k--', lw=1)\n",
    "plt.grid()\n",
    "plt.xlim([0.0, 1.0])\n",
    "plt.ylim([0.0, 1.05])\n",
    "plt.xlabel('False Positive Rate')\n",
    "plt.ylabel('True Positive Rate')\n",
    "plt.title('Receiver operating characteristic (ROC) curve')\n",
    "plt.legend(loc=\"lower right\")\n",
    "# plt.savefig('plots/roc-curve.png')\n",
    "plt.show()"
   ]
  },
  {
   "cell_type": "code",
   "execution_count": null,
   "metadata": {},
   "outputs": [],
   "source": []
  },
  {
   "cell_type": "markdown",
   "metadata": {},
   "source": [
    "#### Time Domain Feature Only"
   ]
  },
  {
   "cell_type": "code",
   "execution_count": 88,
   "metadata": {},
   "outputs": [
    {
     "name": "stdout",
     "output_type": "stream",
     "text": [
      "Test Set Accuracy =  0.48\n",
      "Test Set F-score =  0.48\n",
      "ROC AUC = 0.716\n",
      "Confusion matrix, without normalization\n",
      "[[102  46  46  20]\n",
      " [ 54  96  34  35]\n",
      " [ 41  43  78  35]\n",
      " [ 13  26  40 118]]\n",
      "CPU times: user 6.08 s, sys: 3.83 ms, total: 6.08 s\n",
      "Wall time: 6.1 s\n"
     ]
    },
    {
     "data": {
      "image/png": "[encoded data removed]",
      "text/plain": [
       "<Figure size 432x288 with 2 Axes>"
      ]
     },
     "metadata": {
      "needs_background": "light"
     },
     "output_type": "display_data"
    }
   ],
   "source": [
    "%%time\n",
    "# Train\n",
    "xgb_classifier = xgb.XGBClassifier(max_depth=5, learning_rate=0.1, objective='multi:softprob', \n",
    "                                   n_estimators=500, sub_sample = 0.8, num_class = len(label_dict))\n",
    "xgb_classifier.fit(x_train.iloc[:,:9], y_train)\n",
    "\n",
    "# Predict\n",
    "pred_probs = xgb_classifier.predict_proba(x_test.iloc[:,:9])\n",
    "\n",
    "# Results\n",
    "display_results(y_test, pred_probs)\n",
    "\n",
    "# Save\n",
    "with open('pred_probas/xgb_classifier_time_domain.pkl', 'wb') as f:\n",
    "    pickle.dump(pred_probs, f)"
   ]
  },
  {
   "cell_type": "code",
   "execution_count": null,
   "metadata": {},
   "outputs": [],
   "source": []
  },
  {
   "cell_type": "markdown",
   "metadata": {},
   "source": [
    "#### Frequency Domain Feature Only"
   ]
  },
  {
   "cell_type": "code",
   "execution_count": 89,
   "metadata": {},
   "outputs": [
    {
     "name": "stdout",
     "output_type": "stream",
     "text": [
      "Test Set Accuracy =  0.61\n",
      "Test Set F-score =  0.61\n",
      "ROC AUC = 0.835\n",
      "Confusion matrix, without normalization\n",
      "[[131  36  41   6]\n",
      " [ 44 118  31  26]\n",
      " [ 40  31 109  17]\n",
      " [  9  23  17 148]]\n",
      "CPU times: user 1min, sys: 10.9 ms, total: 1min\n",
      "Wall time: 1min\n"
     ]
    },
    {
     "data": {
      "image/png": "[encoded data removed]",
      "text/plain": [
       "<Figure size 432x288 with 2 Axes>"
      ]
     },
     "metadata": {
      "needs_background": "light"
     },
     "output_type": "display_data"
    }
   ],
   "source": [
    "%%time\n",
    "# Train\n",
    "xgb_classifier = xgb.XGBClassifier(max_depth=5, learning_rate=0.1, objective='multi:softprob', \n",
    "                                   n_estimators=500, sub_sample = 0.8, num_class = len(label_dict))\n",
    "xgb_classifier.fit(x_train.iloc[:,9:], y_train)\n",
    "\n",
    "# Predict\n",
    "pred_probs = xgb_classifier.predict_proba(x_test.iloc[:,9:])\n",
    "\n",
    "# Results\n",
    "display_results(y_test, pred_probs)\n",
    "\n",
    "# Save\n",
    "with open('pred_probas/xgb_classifier_freq_domain.pkl', 'wb') as f:\n",
    "    pickle.dump(pred_probs, f)"
   ]
  },
  {
   "cell_type": "code",
   "execution_count": null,
   "metadata": {},
   "outputs": [],
   "source": []
  }
 ],
 "metadata": {
  "kernelspec": {
   "display_name": "Python 3",
   "language": "python",
   "name": "python3"
  },
  "language_info": {
   "codemirror_mode": {
    "name": "ipython",
    "version": 3
   },
   "file_extension": ".py",
   "mimetype": "text/x-python",
   "name": "python",
   "nbconvert_exporter": "python",
   "pygments_lexer": "ipython3",
   "version": "3.6.5"
  }
 },
 "nbformat": 4,
 "nbformat_minor": 2
}
