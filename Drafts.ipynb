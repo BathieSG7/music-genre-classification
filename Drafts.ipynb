{
 "cells": [
  {
   "cell_type": "code",
   "execution_count": 125,
   "metadata": {},
   "outputs": [
    {
     "name": "stdout",
     "output_type": "stream",
     "text": [
      "taille de Hip= 1071\n",
      "taille de Pop= 1096\n",
      "taille de Reggae= 984\n",
      "taille de Mbalax= 984\n"
     ]
    }
   ],
   "source": [
    "# We retrieve all the songs for each genre\n",
    "\n",
    "wav_files = list(df[\"file_name\"]) # listing files\n",
    "\n",
    "genres=['Hip','Pop','Reggae','Mbalax']\n",
    "genres_files={'Hip':[],\n",
    "              'Pop':[],\n",
    "              'Reggae':[],\n",
    "              'Mbalax':[]\n",
    "             }\n",
    "\n",
    "for genre in genres :\n",
    "    for filename in wav_files:\n",
    "        if genre in filename:\n",
    "            genres_files[genre].append(filename)\n",
    "    print(\"taille de \"+ genre+ \"= \"+str(len(genres_files[genre])))           \n",
    "    "
   ]
  },
  {
   "cell_type": "code",
   "execution_count": 126,
   "metadata": {},
   "outputs": [
    {
     "name": "stdout",
     "output_type": "stream",
     "text": [
      "taille de Hip= 214\n",
      "taille de Pop= 219\n",
      "taille de Reggae= 197\n",
      "taille de Mbalax= 197\n"
     ]
    }
   ],
   "source": [
    "# retrieve only 20percent of each genre for testing\n",
    "genres_files_test={'Hip':[],\n",
    "              'Pop':[],\n",
    "              'Reggae':[],\n",
    "              'Mbalax':[]\n",
    "             }\n",
    "for genre in genres:\n",
    "    i=0\n",
    "    end=round(0.2*len(genres_files[genre]))\n",
    "    for filename in genres_files[genre]:\n",
    "        genres_files_test[genre].append(filename)\n",
    "        i+=1\n",
    "        if i==end :\n",
    "            break\n",
    "    print(\"taille de \"+ genre+ \"= \"+str(len(genres_files_test[genre])))   \n",
    "            "
   ]
  },
  {
   "cell_type": "code",
   "execution_count": 77,
   "metadata": {},
   "outputs": [],
   "source": [
    "# list of test files\n",
    "test_files=[]\n",
    "for genre in genres:\n",
    "    test_files+=genres_files_test[genre]\n",
    "len(test_files)\n",
    "\n",
    "with open('testset_filenames.txt', 'w') as f:\n",
    "    for file in test_files:\n",
    "        f.write(\"%s\\n\" % file)"
   ]
  },
  {
   "cell_type": "code",
   "execution_count": 127,
   "metadata": {},
   "outputs": [],
   "source": [
    "# Train-test split of files # Same split as used for VGG model\n",
    "with open('pred_probas/testset_filenames.txt', 'r') as f:\n",
    "    test_files = f.readlines()\n",
    "test_files = [t.strip() for t in test_files]\n",
    "\n",
    "indices = []\n",
    "for t in test_files:\n",
    "    indices.append(df[df.file_name==t].index[0])\n",
    "    \n",
    "df_test = df.iloc[indices,:]\n",
    "df.drop(labels=indices, inplace=True)\n",
    "\n",
    "cl_weight = dict(pd.Series(df['label']).value_counts(normalize=True))\n",
    "\n",
    "x_train = np.asarray(df[df.columns[1:-1]])\n",
    "x_test = np.asarray(df_test[df.columns[1:-1]])\n",
    "y_train = np.asarray(df['label'])\n",
    "y_test = np.asarray(df_test['label'])\n"
   ]
  },
  {
   "cell_type": "code",
   "execution_count": null,
   "metadata": {},
   "outputs": [],
   "source": []
  }
 ],
 "metadata": {
  "kernelspec": {
   "display_name": "Python 3",
   "language": "python",
   "name": "python3"
  },
  "language_info": {
   "codemirror_mode": {
    "name": "ipython",
    "version": 3
   },
   "file_extension": ".py",
   "mimetype": "text/x-python",
   "name": "python",
   "nbconvert_exporter": "python",
   "pygments_lexer": "ipython3",
   "version": "3.7.2"
  }
 },
 "nbformat": 4,
 "nbformat_minor": 2
}
